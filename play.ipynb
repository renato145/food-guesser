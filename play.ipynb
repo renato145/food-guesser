{
 "cells": [
  {
   "cell_type": "code",
   "execution_count": 1,
   "metadata": {
    "collapsed": false
   },
   "outputs": [
    {
     "name": "stderr",
     "output_type": "stream",
     "text": [
      "Using TensorFlow backend.\n"
     ]
    }
   ],
   "source": [
    "import pandas as pd\n",
    "import numpy as np\n",
    "\n",
    "from keras.models import load_model"
   ]
  },
  {
   "cell_type": "code",
   "execution_count": 2,
   "metadata": {
    "collapsed": false
   },
   "outputs": [
    {
     "name": "stdout",
     "output_type": "stream",
     "text": [
      "Data information:\n",
      "Number of plates: 41\n",
      "Number of questions: 23\n",
      "\n",
      "Models loaded....\n"
     ]
    }
   ],
   "source": [
    "FILE_NAME = 'data.csv'\n",
    "MODEL_QUESTIONS_FILE = 'model_questions.h5'\n",
    "MODEL_ANSWER_FILE = 'model_answer.h5'\n",
    "MODELS_DATA_FILE = 'models_data.npy'\n",
    "\n",
    "df = pd.read_csv(FILE_NAME, index_col=0)\n",
    "idx2col = {i:col for i, col in enumerate(df.columns)}\n",
    "idx2row = {i:row for i, row in enumerate(df.index)}\n",
    "idx2answer = {1: 'Si', 0.5: 'Creo que si', 0: 'No se', -0.5: 'Creo que no', -1: 'No'}\n",
    "data = df.values\n",
    "n_questions = len(idx2col)\n",
    "n_plates = len(idx2row)\n",
    "\n",
    "print('Data information:')\n",
    "print('Number of plates: %d' % n_plates)\n",
    "print('Number of questions: %d' % n_questions)\n",
    "print('\\nloading models...', end='\\r')\n",
    "model_questions = load_model(MODEL_QUESTIONS_FILE)\n",
    "model_answers = load_model(MODEL_ANSWER_FILE)\n",
    "temp = np.load(MODELS_DATA_FILE)\n",
    "model_data = {}\n",
    "model_data['max_q'] = temp[0]\n",
    "model_data['first_q'] = temp[1]\n",
    "print('Models loaded.')"
   ]
  },
  {
   "cell_type": "code",
   "execution_count": 3,
   "metadata": {
    "collapsed": true
   },
   "outputs": [],
   "source": [
    "# Model utils\n",
    "def build_input(path, data):\n",
    "    out_a = np.zeros_like(data)\n",
    "    out_b = np.zeros_like(data)\n",
    "    out_a[:len(path)] = np.asarray(path)\n",
    "    out_a = out_a.reshape([1, -1])\n",
    "    out_b[:len(path)] = data[path]\n",
    "    out_b = out_b.reshape([1, -1])\n",
    "    \n",
    "    return [out_a, out_b]\n",
    "\n",
    "def get_output(y, top=5):\n",
    "    questions, choice = y\n",
    "    out_type = 'question' if np.argmax(choice) == 0 else 'answer'\n",
    "    top_idx = questions.argsort()[0][::-1][:top]\n",
    "    top_prb = questions[0, top_idx]\n",
    "    \n",
    "    return out_type, top_idx, top_prb\n",
    "\n",
    "def ask_question(q):\n",
    "    q += '\\n(1) No'\n",
    "    q += '\\n(2) No se'\n",
    "    q += '\\n(3) Si\\n'\n",
    "    out = {1:-1, 2:0, 3:1}\n",
    "    \n",
    "    while True:\n",
    "        try:\n",
    "            x = int(input(q))\n",
    "        except:\n",
    "            None\n",
    "        else:\n",
    "            if 1 <= x <= 3:\n",
    "                return out[x]\n",
    "            elif x == 4:\n",
    "                raise 'lalalal'"
   ]
  },
  {
   "cell_type": "code",
   "execution_count": 4,
   "metadata": {
    "collapsed": false
   },
   "outputs": [
    {
     "data": {
      "text/plain": [
       "14"
      ]
     },
     "execution_count": 4,
     "metadata": {},
     "output_type": "execute_result"
    }
   ],
   "source": [
    "model_data['max_q']"
   ]
  },
  {
   "cell_type": "code",
   "execution_count": 6,
   "metadata": {
    "collapsed": false
   },
   "outputs": [
    {
     "data": {
      "text/plain": [
       "12"
      ]
     },
     "execution_count": 6,
     "metadata": {},
     "output_type": "execute_result"
    }
   ],
   "source": [
    "model_data['max_q'] = 12\n",
    "model_data['max_q']"
   ]
  },
  {
   "cell_type": "code",
   "execution_count": 18,
   "metadata": {
    "collapsed": false,
    "scrolled": false
   },
   "outputs": [
    {
     "name": "stdout",
     "output_type": "stream",
     "text": [
      "\n",
      "Question #1\n",
      "Lleva cebolla?\n",
      "(1) No\n",
      "(2) No se\n",
      "(3) Si\n",
      "1\n",
      "No\n",
      "\n",
      "Question #2\n",
      "Lleva fideos?\n",
      "(1) No\n",
      "(2) No se\n",
      "(3) Si\n",
      "1\n",
      "No\n",
      "\n",
      "Question #3\n",
      "Lleva carne de res?\n",
      "(1) No\n",
      "(2) No se\n",
      "(3) Si\n",
      "1\n",
      "No\n",
      "\n",
      "Question #4\n",
      "Es comida marina?\n",
      "(1) No\n",
      "(2) No se\n",
      "(3) Si\n",
      "1\n",
      "No\n",
      "\n",
      "Question #5\n",
      "Es frio?\n",
      "(1) No\n",
      "(2) No se\n",
      "(3) Si\n",
      "1\n",
      "No\n",
      "\n",
      "Question #6\n",
      "Lleva pollo/gallina?\n",
      "(1) No\n",
      "(2) No se\n",
      "(3) Si\n",
      "3\n",
      "Si\n",
      "\n",
      "Question #7\n",
      "Lleva chicha de jora?\n",
      "(1) No\n",
      "(2) No se\n",
      "(3) Si\n",
      "1\n",
      "No\n",
      "\n",
      "Question #8\n",
      "Lleva pescado?\n",
      "(1) No\n",
      "(2) No se\n",
      "(3) Si\n",
      "1\n",
      "No\n",
      "\n",
      "Question #9\n",
      "Es liquido/sopa?\n",
      "(1) No\n",
      "(2) No se\n",
      "(3) Si\n",
      "1\n",
      "No\n",
      "\n",
      "Question #10\n",
      "Lleva zapallo?\n",
      "(1) No\n",
      "(2) No se\n",
      "(3) Si\n",
      "1\n",
      "No\n",
      "\n",
      "Question #11\n",
      "Lleva arroz?\n",
      "(1) No\n",
      "(2) No se\n",
      "(3) Si\n",
      "3\n",
      "Si\n",
      "\n",
      "Question #12\n",
      "Lleva chancho?\n",
      "(1) No\n",
      "(2) No se\n",
      "(3) Si\n",
      "1\n",
      "No\n",
      "\n",
      "Question #13\n",
      "Es Arroz con pollo peruano?\n",
      "(1) No\n",
      "(2) No se\n",
      "(3) Si\n",
      "1\n",
      "\n",
      "Question #14\n",
      "Es Arroz chaufa?\n",
      "(1) No\n",
      "(2) No se\n",
      "(3) Si\n",
      "3\n",
      "\n",
      "PLATE = Arroz chaufa\n"
     ]
    }
   ],
   "source": [
    "# Ask questions\n",
    "test_path = []\n",
    "i = 0\n",
    "pred_type = 'question'\n",
    "plate_data = np.zeros_like(data[0])\n",
    "\n",
    "while pred_type != 'answer':\n",
    "    if i == 0:\n",
    "        pred_type = 'question'\n",
    "        pred_val = model_data['first_q']\n",
    "    else:\n",
    "        pred = model_questions.predict(build_input(test_path, plate_data))\n",
    "        limit = n_questions\n",
    "        pred_type, pred_vals, pred_probs = get_output(pred, limit)\n",
    "        \n",
    "        for j in range(limit):\n",
    "            if pred_vals[j] in test_path:\n",
    "                continue\n",
    "            else:\n",
    "                pred_val = pred_vals[j]\n",
    "                break\n",
    "        \n",
    "        answer = np.zeros_like(plate_data)\n",
    "        idxs = np.unique([i for i in test_path if i is not None])\n",
    "        answer[idxs] = plate_data[idxs]\n",
    "        pred2 = model_answers.predict(answer.reshape([1,-1]))\n",
    "        t_answers = np.sum(np.round(pred2[0], 4) > 0)\n",
    "        t_confidence = np.any(pred[1] > .999)\n",
    "        \n",
    "        if t_confidence and t_answers <= 5:\n",
    "            final_plates = np.argsort(pred2[0])[::-1][:t_answers]\n",
    "            break\n",
    "   \n",
    "    if i < model_data['max_q']:\n",
    "        print('\\nQuestion #%d' % (i + 1))\n",
    "        a = ask_question(idx2col[pred_val])\n",
    "        plate_data[pred_val] = a\n",
    "        print(idx2answer[a])\n",
    "        pred_type = 'question'\n",
    "    else:\n",
    "        final_plates = np.argsort(pred2[0])[::-1][:5]\n",
    "        break\n",
    "        \n",
    "    test_path.append(pred_val)\n",
    "    i += 1\n",
    "    \n",
    "n_guess = len(final_plates)\n",
    "\n",
    "for j in range(n_guess):\n",
    "    if j == n_guess-1:\n",
    "        final = final_plates[j]\n",
    "        break\n",
    "    \n",
    "    print('\\nQuestion #%d' % (i + 1))\n",
    "    i += 1\n",
    "    a = ask_question('Es %s?' % idx2row[final_plates[j]])\n",
    "    if a == 1:\n",
    "        final = final_plates[j]\n",
    "        break\n",
    "\n",
    "print('\\nPLATE = ' + idx2row[final])"
   ]
  }
 ],
 "metadata": {
  "kernelspec": {
   "display_name": "Python 3",
   "language": "python",
   "name": "python3"
  },
  "language_info": {
   "codemirror_mode": {
    "name": "ipython",
    "version": 3
   },
   "file_extension": ".py",
   "mimetype": "text/x-python",
   "name": "python",
   "nbconvert_exporter": "python",
   "pygments_lexer": "ipython3",
   "version": "3.6.0"
  }
 },
 "nbformat": 4,
 "nbformat_minor": 2
}
