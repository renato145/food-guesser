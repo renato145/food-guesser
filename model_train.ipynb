{
 "cells": [
  {
   "cell_type": "code",
   "execution_count": 1,
   "metadata": {
    "collapsed": false
   },
   "outputs": [
    {
     "name": "stderr",
     "output_type": "stream",
     "text": [
      "Using TensorFlow backend.\n"
     ]
    }
   ],
   "source": [
    "import random\n",
    "import numpy as np\n",
    "import pandas as pd\n",
    "import matplotlib.pyplot as plt\n",
    "\n",
    "from sklearn import tree\n",
    "from pprint import pprint\n",
    "from keras.utils.np_utils import to_categorical\n",
    "\n",
    "%matplotlib inline"
   ]
  },
  {
   "cell_type": "code",
   "execution_count": 2,
   "metadata": {
    "collapsed": false
   },
   "outputs": [
    {
     "name": "stdout",
     "output_type": "stream",
     "text": [
      "Data information:\n",
      "Number of plates: 24\n",
      "Number of questions: 19\n"
     ]
    }
   ],
   "source": [
    "FILE_NAME = 'data.csv'\n",
    "MAX_Q = 20\n",
    "\n",
    "# Data have 5 scales:\n",
    "#     +1   : True\n",
    "#     +0.5 : Maybe true\n",
    "#     0    : Unknown\n",
    "#     -0.5 : Maybe false\n",
    "#     -1   : False\n",
    "\n",
    "df = pd.read_csv(FILE_NAME, index_col=0)\n",
    "idx2col = {i:col for i, col in enumerate(df.columns)}\n",
    "idx2row = {i:row for i, row in enumerate(df.index)}\n",
    "idx2answer = {1: 'Si', 0.5: 'Creo que si', 0: 'No se', -0.5: 'Creo que no', -1: 'No'}\n",
    "data = df.values\n",
    "n_questions = len(idx2col)\n",
    "n_plates = len(idx2row)\n",
    "\n",
    "print('Data information:')\n",
    "print('Number of plates: %d' % n_plates)\n",
    "print('Number of questions: %d' % n_questions)"
   ]
  },
  {
   "cell_type": "code",
   "execution_count": 3,
   "metadata": {
    "collapsed": true
   },
   "outputs": [],
   "source": [
    "# Util functions\n",
    "def is_unique(idx, data):\n",
    "    for i in range(len(data)):\n",
    "        if i != idx and np.all(data[idx] == data[i]):\n",
    "            return False\n",
    "    \n",
    "    return True"
   ]
  },
  {
   "cell_type": "code",
   "execution_count": 4,
   "metadata": {
    "collapsed": false
   },
   "outputs": [],
   "source": [
    "# Build decision tree\n",
    "X = data\n",
    "y = np.arange(n_plates)\n",
    "\n",
    "clf = tree.DecisionTreeClassifier(max_depth=MAX_Q, random_state=0, criterion='entropy')\n",
    "clf = clf.fit(X, y)"
   ]
  },
  {
   "cell_type": "code",
   "execution_count": 6,
   "metadata": {
    "collapsed": false
   },
   "outputs": [
    {
     "name": "stdout",
     "output_type": "stream",
     "text": [
      "Plate: Seco de pollo\n",
      "\n",
      "Questions:\n",
      "['Lleva papas?',\n",
      " 'Es comida marina?',\n",
      " 'Lleva carne de res?',\n",
      " 'Lleva pollo?',\n",
      " 'Lleva arroz?']\n",
      "\n",
      "Check uniqueness: True\n"
     ]
    }
   ],
   "source": [
    "# Check decision paths\n",
    "idx = random.choice(range(n_plates))\n",
    "t = [clf.tree_.feature[i] for i in clf.decision_path([X[idx]]).indices][:-1]\n",
    "\n",
    "print('Plate: %s\\n\\nQuestions:' % idx2row[idx])\n",
    "pprint([idx2col[i] for i in t])\n",
    "print('\\nCheck uniqueness: %s' % is_unique(idx, data[:, t]))"
   ]
  },
  {
   "cell_type": "code",
   "execution_count": 7,
   "metadata": {
    "collapsed": false
   },
   "outputs": [],
   "source": [
    "# Get paths for each plate\n",
    "plate_paths = []\n",
    "\n",
    "for idx in range(len(X)):\n",
    "    path = [clf.tree_.feature[i] for i in clf.decision_path([X[idx]]).indices][:-1]\n",
    "    plate_paths.append(path)\n",
    "\n",
    "# pprint(plate_paths)"
   ]
  },
  {
   "cell_type": "code",
   "execution_count": 212,
   "metadata": {
    "collapsed": false
   },
   "outputs": [],
   "source": [
    "# Train data generator\n",
    "def generator(data, plates_data, n_q, n_p, mode):\n",
    "    # TODO: lyer behaviour\n",
    "    # TODO: unoptimize path\n",
    "    # TODO: use guess on paths (0.5 or -0.5)\n",
    "    while True:\n",
    "        t_x_a = []\n",
    "        t_x_b = []\n",
    "        t_y_q = []\n",
    "        t_y_p = []\n",
    "        t_y_c = []\n",
    "        current_plate = 0\n",
    "        \n",
    "        for plate, d in enumerate(data):\n",
    "            for i in range(1, len(d)):\n",
    "                t_x_a.append(d[:i])\n",
    "                t_x_b.append(current_plate)\n",
    "                t_y_q.append(d[i])\n",
    "                t_y_p.append(plate)\n",
    "                t_y_c.append(0)\n",
    "            \n",
    "            if i < len(d) - 1:\n",
    "                current_plate += 1\n",
    "                \n",
    "            t_x_a.append(d[:i+1])\n",
    "            t_x_b.append(current_plate)\n",
    "            t_y_q.append(-1)\n",
    "            t_y_p.append(plate)\n",
    "            t_y_c.append(1)\n",
    "            \n",
    "        n = len(t_y_q)\n",
    "        out_x_a = np.zeros((n, n_q))\n",
    "        out_x_b = np.zeros((n, n_q))\n",
    "        out_y_q = np.zeros((n, n_q))\n",
    "        out_y_p = np.zeros((n, n_p))\n",
    "        out_y_c = np.zeros((n, 2))\n",
    "        \n",
    "        for i in range(len(t_x_a)):\n",
    "            out_x_a[i, :len(t_x_a[i])] = np.asarray(t_x_a[i])\n",
    "            out_x_b[i, :len(t_x_a[i])] = np.asarray(plates_data[t_x_b[i]][t_x_a[i]])\n",
    "            out_x = np.hstack([out_x_a, out_x_b])\n",
    "            out_y_c[i] = to_categorical(t_y_c[i], 2)\n",
    "            \n",
    "            if t_y_q[i] > -1:\n",
    "                out_y_q[i] = to_categorical(t_y_q[i], n_q)\n",
    "            \n",
    "            if t_y_p[i] > -1:\n",
    "                out_y_p[i] = to_categorical(t_y_p[i], n_p)\n",
    "        \n",
    "        if mode == 'questions':\n",
    "            yield [out_x_a, out_x_b], [out_y_q, out_y_c]\n",
    "        elif mode == 'answers':\n",
    "            yield out_x_b, out_y_p"
   ]
  },
  {
   "cell_type": "code",
   "execution_count": 213,
   "metadata": {
    "collapsed": false,
    "scrolled": false
   },
   "outputs": [
    {
     "name": "stdout",
     "output_type": "stream",
     "text": [
      "Batchs per generator iter: 115\n",
      "First question: 15 (Lleva papas?)\n"
     ]
    }
   ],
   "source": [
    "# Test generator\n",
    "data_gen = generator(plate_paths, data, n_questions, n_plates, 'questions')\n",
    "\n",
    "for i, ([t_x_a, t_x_b], [t_y_q, t_y_c]) in enumerate(data_gen):\n",
    "    if i == 1:\n",
    "        break\n",
    "    \n",
    "    gen_batch = len(t_x_a)\n",
    "\n",
    "count = np.unique(t_x_a[:, 0], return_counts=True)\n",
    "first_question = int(count[0][np.argmax(count[1])])\n",
    "    \n",
    "print('Batchs per generator iter: %d' % gen_batch)\n",
    "print('First question: %d (%s)' % (first_question, idx2col[first_question]))"
   ]
  },
  {
   "cell_type": "code",
   "execution_count": 216,
   "metadata": {
    "collapsed": false
   },
   "outputs": [],
   "source": [
    "# Build model\n",
    "from keras.layers import Input, Dense, BatchNormalization, concatenate\n",
    "from keras.models import Model\n",
    "from keras import backend as K\n",
    "from keras.initializers import Constant\n",
    "\n",
    "choice_penalty = 10\n",
    "input_question = Input(shape=(n_questions,))\n",
    "input_data = Input(shape=(n_questions,))\n",
    "\n",
    "x1 = concatenate([input_question, input_data], axis=-1)\n",
    "x1 = Dense(128, activation='relu', kernel_initializer='he_uniform', bias_initializer=Constant(1e-2))(input_question)\n",
    "x1 = Dense(256, activation='relu', kernel_initializer='he_uniform', bias_initializer=Constant(1e-2))(x1)\n",
    "\n",
    "x2 = Dense(128, activation='relu', kernel_initializer='he_uniform', bias_initializer=Constant(1e-2))(input_data)\n",
    "x2 = Dense(256, activation='relu', kernel_initializer='he_uniform', bias_initializer=Constant(1e-2))(x2)\n",
    "\n",
    "out_question = Dense(n_questions, activation='softmax')(x1)\n",
    "out_choice = Dense(2, activation='softmax')(x1)\n",
    "out_answer = Dense(n_plates, activation='softmax')(x2)\n",
    "\n",
    "model1 = Model(inputs=[input_question, input_data], outputs=[out_question, out_choice])\n",
    "model1.compile(optimizer='adam', loss='categorical_crossentropy', metrics=['accuracy'], \n",
    "              loss_weights=[1, choice_penalty])\n",
    "\n",
    "model2 = Model(inputs=input_data, outputs=out_answer)\n",
    "model2.compile(optimizer='adam', loss='categorical_crossentropy', metrics=['accuracy'])\n",
    "\n",
    "# x_plate = Dense(64, activation='relu', kernel_initializer='he_uniform', bias_initializer=Constant(1e-2))(model_input)\n",
    "# x_plate = Dense(128, activation='relu', kernel_initializer='he_uniform', bias_initializer=Constant(1e-2))(model_input)\n",
    "\n",
    "# print(out_question)\n",
    "# # out_question *= K.cast(K.argmax(out_choice), K.floatx())\n",
    "# out_question = out_question[:, 0] - out_question[:, 1]\n",
    "# print(out_question)\n",
    "# print()\n",
    "\n",
    "# # out = concatenate([out_question, out_plate, out_choice], axis=0)\n",
    "# out = concatenate([out_plate, out_plate, out_plate], axis=0)\n",
    "# print(out)\n",
    "# model = Model(inputs=model_input, outputs=out_plate)\n",
    "\n",
    "# # model = Model(input=model_input, output=[out_question, out_plate, out_choice])\n",
    "# # model.compile(optimizer='adam', loss='categorical_crossentropy', metrics=['accuracy'], \n",
    "# #               loss_weights=[1, 1, choice_penalty])"
   ]
  },
  {
   "cell_type": "code",
   "execution_count": 217,
   "metadata": {
    "collapsed": false
   },
   "outputs": [
    {
     "name": "stdout",
     "output_type": "stream",
     "text": [
      "question train\n",
      "Epoch 1/10\n",
      "1s - loss: 8.0889 - dense_205_loss: 2.3656 - dense_206_loss: 0.5723 - dense_205_acc: 0.3949 - dense_206_acc: 0.8867\n",
      "Epoch 2/10\n",
      "0s - loss: 3.4429 - dense_205_loss: 1.7707 - dense_206_loss: 0.1672 - dense_205_acc: 0.5130 - dense_206_acc: 0.9217\n",
      "Epoch 3/10\n",
      "0s - loss: 3.2806 - dense_205_loss: 1.7160 - dense_206_loss: 0.1565 - dense_205_acc: 0.5130 - dense_206_acc: 0.9217\n",
      "Epoch 4/10\n",
      "1s - loss: 3.2046 - dense_205_loss: 1.7003 - dense_206_loss: 0.1504 - dense_205_acc: 0.5130 - dense_206_acc: 0.9361\n",
      "Epoch 5/10\n",
      "0s - loss: 3.1397 - dense_205_loss: 1.6932 - dense_206_loss: 0.1447 - dense_205_acc: 0.5130 - dense_206_acc: 0.9391\n",
      "Epoch 6/10\n",
      "1s - loss: 3.0762 - dense_205_loss: 1.6891 - dense_206_loss: 0.1387 - dense_205_acc: 0.5130 - dense_206_acc: 0.9391\n",
      "Epoch 7/10\n",
      "0s - loss: 3.0187 - dense_205_loss: 1.6868 - dense_206_loss: 0.1332 - dense_205_acc: 0.5130 - dense_206_acc: 0.9391\n",
      "Epoch 8/10\n",
      "1s - loss: 2.9744 - dense_205_loss: 1.6854 - dense_206_loss: 0.1289 - dense_205_acc: 0.5130 - dense_206_acc: 0.9391\n",
      "Epoch 9/10\n",
      "0s - loss: 2.9448 - dense_205_loss: 1.6847 - dense_206_loss: 0.1260 - dense_205_acc: 0.5130 - dense_206_acc: 0.9391\n",
      "Epoch 10/10\n",
      "0s - loss: 2.9267 - dense_205_loss: 1.6842 - dense_206_loss: 0.1243 - dense_205_acc: 0.5130 - dense_206_acc: 0.9391\n"
     ]
    },
    {
     "data": {
      "image/png": "[encoded data removed]",
      "text/plain": [
       "<matplotlib.figure.Figure at 0x7fdc71e43208>"
      ]
     },
     "metadata": {},
     "output_type": "display_data"
    },
    {
     "data": {
      "image/png": "[encoded data removed]",
      "text/plain": [
       "<matplotlib.figure.Figure at 0x7fdc7274a320>"
      ]
     },
     "metadata": {},
     "output_type": "display_data"
    },
    {
     "data": {
      "image/png": "[encoded data removed]",
      "text/plain": [
       "<matplotlib.figure.Figure at 0x7fdc726f9160>"
      ]
     },
     "metadata": {},
     "output_type": "display_data"
    },
    {
     "data": {
      "image/png": "[encoded data removed]",
      "text/plain": [
       "<matplotlib.figure.Figure at 0x7fdc72743f98>"
      ]
     },
     "metadata": {},
     "output_type": "display_data"
    },
    {
     "data": {
      "image/png": "[encoded data removed]",
      "text/plain": [
       "<matplotlib.figure.Figure at 0x7fdc909a3dd8>"
      ]
     },
     "metadata": {},
     "output_type": "display_data"
    }
   ],
   "source": [
    "print('question train')\n",
    "gen = generator(plate_paths, data, n_questions, n_plates, 'questions')\n",
    "h = model1.fit_generator(gen, gen_batch, 10, verbose=2)\n",
    "\n",
    "for k in h.history.keys():\n",
    "    plt.plot(h.history[k])\n",
    "    plt.title(k)\n",
    "    plt.show()"
   ]
  },
  {
   "cell_type": "code",
   "execution_count": 218,
   "metadata": {
    "collapsed": false
   },
   "outputs": [
    {
     "name": "stdout",
     "output_type": "stream",
     "text": [
      "answer train\n",
      "Epoch 1/10\n",
      "1s - loss: 2.2444 - acc: 0.1531\n",
      "Epoch 2/10\n",
      "0s - loss: 2.1106 - acc: 0.1565\n",
      "Epoch 3/10\n",
      "0s - loss: 2.1094 - acc: 0.1565\n",
      "Epoch 4/10\n",
      "0s - loss: 2.1091 - acc: 0.1565\n",
      "Epoch 5/10\n",
      "0s - loss: 2.1090 - acc: 0.1565\n",
      "Epoch 6/10\n",
      "0s - loss: 2.1089 - acc: 0.1565\n",
      "Epoch 7/10\n",
      "0s - loss: 2.1089 - acc: 0.1565\n",
      "Epoch 8/10\n",
      "0s - loss: 2.1089 - acc: 0.1565\n",
      "Epoch 9/10\n",
      "0s - loss: 2.1089 - acc: 0.1565\n",
      "Epoch 10/10\n",
      "0s - loss: 2.1089 - acc: 0.1565\n"
     ]
    },
    {
     "data": {
      "image/png": "[encoded data removed]",
      "text/plain": [
       "<matplotlib.figure.Figure at 0x7fdc719d20b8>"
      ]
     },
     "metadata": {},
     "output_type": "display_data"
    },
    {
     "data": {
      "image/png": "[encoded data removed]",
      "text/plain": [
       "<matplotlib.figure.Figure at 0x7fdc726e8080>"
      ]
     },
     "metadata": {},
     "output_type": "display_data"
    }
   ],
   "source": [
    "print('answer train')\n",
    "gen = generator(plate_paths, data, n_questions, n_plates, 'answers')\n",
    "h = model2.fit_generator(gen, gen_batch, 10, verbose=2)\n",
    "\n",
    "for k in h.history.keys():\n",
    "    plt.plot(h.history[k])\n",
    "    plt.title(k)\n",
    "    plt.show()"
   ]
  },
  {
   "cell_type": "code",
   "execution_count": 286,
   "metadata": {
    "collapsed": false
   },
   "outputs": [],
   "source": [
    "# Model utils\n",
    "def build_input(path, data):\n",
    "    out_a = np.zeros_like(data)\n",
    "    out_b = np.zeros_like(data)\n",
    "    out_a[:len(path)] = np.asarray(path)\n",
    "    out_a = out_a.reshape([1, -1])\n",
    "    out_b[:len(path)] = data[path]\n",
    "    out_b = out_b.reshape([1, -1])\n",
    "#     out = np.hstack([out_a, out_b])\n",
    "#     out = out.reshape([1, -1])\n",
    "    \n",
    "    return [out_a, out_b]\n",
    "\n",
    "def get_output(y):\n",
    "    questions, choice = y\n",
    "    \n",
    "    if np.argmax(choice) == 0:\n",
    "        out_type = 'question'\n",
    "        out_val = np.argmax(questions)\n",
    "    else:\n",
    "        out_type = 'answer'\n",
    "        out_val = None\n",
    "    \n",
    "    return out_type, out_val"
   ]
  },
  {
   "cell_type": "code",
   "execution_count": 332,
   "metadata": {
    "collapsed": false
   },
   "outputs": [
    {
     "name": "stdout",
     "output_type": "stream",
     "text": [
      "Target plate: Tallarines saltados\n",
      "Optimal path of questions: ['Lleva papas?', 'Es comida marina?', 'Lleva carne de res?', 'Lleva fideos?']\n",
      "\n",
      "Question #1\n",
      "Lleva papas? (No)\n",
      "\n",
      "Question #2\n",
      "Es comida marina? (No)\n",
      "\n",
      "Question #3\n",
      "Lleva carne de res? (Si)\n",
      "\n",
      "Question #4\n",
      "Lleva pollo? (No)\n",
      "\n",
      "Question #5\n",
      "Lleva arroz? (No)\n",
      "\n",
      "Answer: \n",
      "Rocoto relleno\n"
     ]
    }
   ],
   "source": [
    "# Get random test\n",
    "choice = random.choice(range(len(X)))\n",
    "plate_name = idx2row[y[choice]]\n",
    "plate_data = X[choice]\n",
    "plate_best_path = plate_paths[choice]\n",
    "print('Target plate: %s' % plate_name)\n",
    "print('Optimal path of questions: %s' % [idx2col[i] for i in plate_best_path])\n",
    "\n",
    "# Ask questions\n",
    "test_path = []\n",
    "i = 0\n",
    "pred_type = 'question'\n",
    "\n",
    "while pred_type != 'answer':\n",
    "    if i == 0:\n",
    "        pred_type = 'question'\n",
    "        pred_val = first_question\n",
    "    else:\n",
    "        pred = model1.predict(build_input(test_path, plate_data))\n",
    "        pred_type, pred_val = get_output(pred)\n",
    "\n",
    "    if pred_type == 'question' and i < MAX_Q-1:\n",
    "        print('\\nQuestion #%d' % (i + 1))\n",
    "        print('%s (%s)' % (idx2col[pred_val], idx2answer[plate_data[pred_val]]))\n",
    "    else:\n",
    "        print('\\nAnswer: ')\n",
    "#         print(test_path)\n",
    "        answer = np.zeros_like(plate_data)\n",
    "        idxs = np.unique([i for i in test_path if i is not None])\n",
    "        answer[idxs] = plate_data[idxs]\n",
    "        answer_txt = idx2row[clf.predict([answer])[0]]\n",
    "        print(answer_txt)\n",
    "        break\n",
    "        \n",
    "    test_path.append(pred_val)\n",
    "    i += 1"
   ]
  },
  {
   "cell_type": "code",
   "execution_count": 333,
   "metadata": {
    "collapsed": false
   },
   "outputs": [
    {
     "data": {
      "text/plain": [
       "'Lomo saltado'"
      ]
     },
     "execution_count": 333,
     "metadata": {},
     "output_type": "execute_result"
    }
   ],
   "source": [
    "pred2 = model2.predict(build_input(test_path, plate_data)[1])\n",
    "idx2row[np.argmax(pred2)]"
   ]
  },
  {
   "cell_type": "code",
   "execution_count": 168,
   "metadata": {
    "collapsed": false
   },
   "outputs": [
    {
     "name": "stdout",
     "output_type": "stream",
     "text": [
      "Plate: Locro de zapallo\n",
      "\n",
      "Questions:\n",
      "['Lleva papas?', 'Lleva pollo?', 'Lleva cebolla?', 'Es frio?', 'Lleva arroz?']\n",
      "\n",
      "Check uniqueness: False\n"
     ]
    }
   ],
   "source": [
    "t = [clf.tree_.feature[i] for i in clf.decision_path([answer]).indices][:-1]\n",
    "\n",
    "print('Plate: %s\\n\\nQuestions:' % idx2row[idx])\n",
    "pprint([idx2col[i] for i in t])\n",
    "print('\\nCheck uniqueness: %s' % is_unique(idx, data[:, t]))"
   ]
  },
  {
   "cell_type": "code",
   "execution_count": 166,
   "metadata": {
    "collapsed": false
   },
   "outputs": [
    {
     "data": {
      "text/plain": [
       "array([ 0,  0,  0,  0,  0, -1,  0,  0, -1,  0,  0, -1,  0,  0,  0,  1,  0,\n",
       "       -1,  0])"
      ]
     },
     "execution_count": 166,
     "metadata": {},
     "output_type": "execute_result"
    }
   ],
   "source": [
    "answer"
   ]
  },
  {
   "cell_type": "code",
   "execution_count": 167,
   "metadata": {
    "collapsed": false
   },
   "outputs": [
    {
     "data": {
      "text/plain": [
       "<1x47 sparse matrix of type '<class 'numpy.int64'>'\n",
       "\twith 6 stored elements in Compressed Sparse Row format>"
      ]
     },
     "execution_count": 167,
     "metadata": {},
     "output_type": "execute_result"
    }
   ],
   "source": [
    "clf.decision_path([answer])"
   ]
  },
  {
   "cell_type": "code",
   "execution_count": 165,
   "metadata": {
    "collapsed": false
   },
   "outputs": [
    {
     "data": {
      "text/plain": [
       "array([[ 0.,  1.,  0.,  0.,  0.,  0.,  0.,  0.,  0.,  0.,  0.,  0.,  0.,\n",
       "         0.,  0.,  0.,  0.,  0.,  0.,  0.,  0.,  0.,  0.,  0.]])"
      ]
     },
     "execution_count": 165,
     "metadata": {},
     "output_type": "execute_result"
    }
   ],
   "source": [
    "clf.predict_proba([answer])"
   ]
  },
  {
   "cell_type": "code",
   "execution_count": 91,
   "metadata": {
    "collapsed": false
   },
   "outputs": [
    {
     "data": {
      "text/plain": [
       "array([ 0,  0, -1, -1,  0,  0,  0, -1,  0,  0,  0,  0,  0,  0,  0, -1,  0,\n",
       "       -1,  0])"
      ]
     },
     "execution_count": 91,
     "metadata": {},
     "output_type": "execute_result"
    }
   ],
   "source": [
    "answer = np.zeros_like(plate_data)\n",
    "idxs = np.unique([i for i in test_path if i is not None])\n",
    "answer[idxs] = plate_data[idxs]\n",
    "answer"
   ]
  },
  {
   "cell_type": "code",
   "execution_count": 106,
   "metadata": {
    "collapsed": false
   },
   "outputs": [
    {
     "data": {
      "text/plain": [
       "'Adobo de cerdo'"
      ]
     },
     "execution_count": 106,
     "metadata": {},
     "output_type": "execute_result"
    }
   ],
   "source": [
    "idx2row[clf.predict([answer])[0]]"
   ]
  },
  {
   "cell_type": "code",
   "execution_count": null,
   "metadata": {
    "collapsed": true
   },
   "outputs": [],
   "source": []
  },
  {
   "cell_type": "code",
   "execution_count": null,
   "metadata": {
    "collapsed": true
   },
   "outputs": [],
   "source": []
  },
  {
   "cell_type": "code",
   "execution_count": 250,
   "metadata": {
    "collapsed": false
   },
   "outputs": [
    {
     "data": {
      "text/plain": [
       "array([ 1.])"
      ]
     },
     "execution_count": 250,
     "metadata": {},
     "output_type": "execute_result"
    }
   ],
   "source": [
    "answers[test_path]"
   ]
  },
  {
   "cell_type": "code",
   "execution_count": 1,
   "metadata": {
    "collapsed": false
   },
   "outputs": [],
   "source": [
    "#\n"
   ]
  },
  {
   "cell_type": "code",
   "execution_count": 95,
   "metadata": {
    "collapsed": false
   },
   "outputs": [
    {
     "data": {
      "text/plain": [
       "(24,)"
      ]
     },
     "execution_count": 95,
     "metadata": {},
     "output_type": "execute_result"
    }
   ],
   "source": [
    "y.shape"
   ]
  },
  {
   "cell_type": "code",
   "execution_count": null,
   "metadata": {
    "collapsed": true
   },
   "outputs": [],
   "source": [
    "model.predict()"
   ]
  },
  {
   "cell_type": "code",
   "execution_count": 50,
   "metadata": {
    "collapsed": false
   },
   "outputs": [
    {
     "data": {
      "text/plain": [
       "<keras.engine.training.Model at 0x7f3038c703c8>"
      ]
     },
     "execution_count": 50,
     "metadata": {},
     "output_type": "execute_result"
    }
   ],
   "source": [
    "# out = merge([out_question, out_plate, out_choice], mode='concat')"
   ]
  },
  {
   "cell_type": "code",
   "execution_count": null,
   "metadata": {
    "collapsed": true
   },
   "outputs": [],
   "source": []
  },
  {
   "cell_type": "code",
   "execution_count": 42,
   "metadata": {
    "collapsed": false
   },
   "outputs": [
    {
     "data": {
      "text/plain": [
       "<tf.Tensor 'Softmax_2:0' shape=(?, 19) dtype=float32>"
      ]
     },
     "execution_count": 42,
     "metadata": {},
     "output_type": "execute_result"
    }
   ],
   "source": [
    "out_question"
   ]
  },
  {
   "cell_type": "code",
   "execution_count": 43,
   "metadata": {
    "collapsed": false
   },
   "outputs": [
    {
     "data": {
      "text/plain": [
       "<tf.Tensor 'Softmax_3:0' shape=(?, 24) dtype=float32>"
      ]
     },
     "execution_count": 43,
     "metadata": {},
     "output_type": "execute_result"
    }
   ],
   "source": [
    "out_plate"
   ]
  },
  {
   "cell_type": "code",
   "execution_count": 44,
   "metadata": {
    "collapsed": false
   },
   "outputs": [
    {
     "data": {
      "text/plain": [
       "<tf.Tensor 'Softmax_4:0' shape=(?, 2) dtype=float32>"
      ]
     },
     "execution_count": 44,
     "metadata": {},
     "output_type": "execute_result"
    }
   ],
   "source": [
    "out_choice"
   ]
  },
  {
   "cell_type": "code",
   "execution_count": 195,
   "metadata": {
    "collapsed": true
   },
   "outputs": [
    {
     "name": "stdout",
     "output_type": "stream",
     "text": [
      "Tensor(\"Cast_227:0\", shape=(?,), dtype=float32)\n"
     ]
    },
    {
     "ename": "ValueError",
     "evalue": "None values not supported.",
     "output_type": "error",
     "traceback": [
      "\u001b[0;31m---------------------------------------------------------------------------\u001b[0m",
      "\u001b[0;31mValueError\u001b[0m                                Traceback (most recent call last)",
      "\u001b[0;32m<ipython-input-195-9fbfb7f14d34>\u001b[0m in \u001b[0;36m<module>\u001b[0;34m()\u001b[0m\n\u001b[1;32m     41\u001b[0m \u001b[0;34m\u001b[0m\u001b[0m\n\u001b[1;32m     42\u001b[0m \u001b[0mmodel\u001b[0m\u001b[0;34m.\u001b[0m\u001b[0mcompile\u001b[0m\u001b[0;34m(\u001b[0m\u001b[0moptimizer\u001b[0m\u001b[0;34m=\u001b[0m\u001b[0;34m'adam'\u001b[0m\u001b[0;34m,\u001b[0m \u001b[0mloss\u001b[0m\u001b[0;34m=\u001b[0m\u001b[0mcustom_loss\u001b[0m\u001b[0;34m)\u001b[0m\u001b[0;34m\u001b[0m\u001b[0m\n\u001b[0;32m---> 43\u001b[0;31m \u001b[0mh\u001b[0m \u001b[0;34m=\u001b[0m \u001b[0mmodel\u001b[0m\u001b[0;34m.\u001b[0m\u001b[0mfit_generator\u001b[0m\u001b[0;34m(\u001b[0m\u001b[0mdata_gen\u001b[0m\u001b[0;34m,\u001b[0m \u001b[0mgen_batch\u001b[0m\u001b[0;34m,\u001b[0m \u001b[0;36m500\u001b[0m\u001b[0;34m,\u001b[0m \u001b[0mverbose\u001b[0m\u001b[0;34m=\u001b[0m\u001b[0;36m0\u001b[0m\u001b[0;34m)\u001b[0m\u001b[0;34m\u001b[0m\u001b[0m\n\u001b[0m",
      "\u001b[0;32m/home/kopita/anaconda3/envs/ml/lib/python3.6/site-packages/keras/engine/training.py\u001b[0m in \u001b[0;36mfit_generator\u001b[0;34m(self, generator, samples_per_epoch, nb_epoch, verbose, callbacks, validation_data, nb_val_samples, class_weight, max_q_size, nb_worker, pickle_safe, initial_epoch)\u001b[0m\n\u001b[1;32m   1452\u001b[0m \u001b[0;34m\u001b[0m\u001b[0m\n\u001b[1;32m   1453\u001b[0m         \u001b[0mdo_validation\u001b[0m \u001b[0;34m=\u001b[0m \u001b[0mbool\u001b[0m\u001b[0;34m(\u001b[0m\u001b[0mvalidation_data\u001b[0m\u001b[0;34m)\u001b[0m\u001b[0;34m\u001b[0m\u001b[0m\n\u001b[0;32m-> 1454\u001b[0;31m         \u001b[0mself\u001b[0m\u001b[0;34m.\u001b[0m\u001b[0m_make_train_function\u001b[0m\u001b[0;34m(\u001b[0m\u001b[0;34m)\u001b[0m\u001b[0;34m\u001b[0m\u001b[0m\n\u001b[0m\u001b[1;32m   1455\u001b[0m         \u001b[0;32mif\u001b[0m \u001b[0mdo_validation\u001b[0m\u001b[0;34m:\u001b[0m\u001b[0;34m\u001b[0m\u001b[0m\n\u001b[1;32m   1456\u001b[0m             \u001b[0mself\u001b[0m\u001b[0;34m.\u001b[0m\u001b[0m_make_test_function\u001b[0m\u001b[0;34m(\u001b[0m\u001b[0;34m)\u001b[0m\u001b[0;34m\u001b[0m\u001b[0m\n",
      "\u001b[0;32m/home/kopita/anaconda3/envs/ml/lib/python3.6/site-packages/keras/engine/training.py\u001b[0m in \u001b[0;36m_make_train_function\u001b[0;34m(self)\u001b[0m\n\u001b[1;32m    758\u001b[0m             training_updates = self.optimizer.get_updates(self._collected_trainable_weights,\n\u001b[1;32m    759\u001b[0m                                                           \u001b[0mself\u001b[0m\u001b[0;34m.\u001b[0m\u001b[0mconstraints\u001b[0m\u001b[0;34m,\u001b[0m\u001b[0;34m\u001b[0m\u001b[0m\n\u001b[0;32m--> 760\u001b[0;31m                                                           self.total_loss)\n\u001b[0m\u001b[1;32m    761\u001b[0m             \u001b[0mupdates\u001b[0m \u001b[0;34m=\u001b[0m \u001b[0mself\u001b[0m\u001b[0;34m.\u001b[0m\u001b[0mupdates\u001b[0m \u001b[0;34m+\u001b[0m \u001b[0mtraining_updates\u001b[0m\u001b[0;34m\u001b[0m\u001b[0m\n\u001b[1;32m    762\u001b[0m \u001b[0;34m\u001b[0m\u001b[0m\n",
      "\u001b[0;32m/home/kopita/anaconda3/envs/ml/lib/python3.6/site-packages/keras/optimizers.py\u001b[0m in \u001b[0;36mget_updates\u001b[0;34m(self, params, constraints, loss)\u001b[0m\n\u001b[1;32m    431\u001b[0m \u001b[0;34m\u001b[0m\u001b[0m\n\u001b[1;32m    432\u001b[0m         \u001b[0;32mfor\u001b[0m \u001b[0mp\u001b[0m\u001b[0;34m,\u001b[0m \u001b[0mg\u001b[0m\u001b[0;34m,\u001b[0m \u001b[0mm\u001b[0m\u001b[0;34m,\u001b[0m \u001b[0mv\u001b[0m \u001b[0;32min\u001b[0m \u001b[0mzip\u001b[0m\u001b[0;34m(\u001b[0m\u001b[0mparams\u001b[0m\u001b[0;34m,\u001b[0m \u001b[0mgrads\u001b[0m\u001b[0;34m,\u001b[0m \u001b[0mms\u001b[0m\u001b[0;34m,\u001b[0m \u001b[0mvs\u001b[0m\u001b[0;34m)\u001b[0m\u001b[0;34m:\u001b[0m\u001b[0;34m\u001b[0m\u001b[0m\n\u001b[0;32m--> 433\u001b[0;31m             \u001b[0mm_t\u001b[0m \u001b[0;34m=\u001b[0m \u001b[0;34m(\u001b[0m\u001b[0mself\u001b[0m\u001b[0;34m.\u001b[0m\u001b[0mbeta_1\u001b[0m \u001b[0;34m*\u001b[0m \u001b[0mm\u001b[0m\u001b[0;34m)\u001b[0m \u001b[0;34m+\u001b[0m \u001b[0;34m(\u001b[0m\u001b[0;36m1.\u001b[0m \u001b[0;34m-\u001b[0m \u001b[0mself\u001b[0m\u001b[0;34m.\u001b[0m\u001b[0mbeta_1\u001b[0m\u001b[0;34m)\u001b[0m \u001b[0;34m*\u001b[0m \u001b[0mg\u001b[0m\u001b[0;34m\u001b[0m\u001b[0m\n\u001b[0m\u001b[1;32m    434\u001b[0m             \u001b[0mv_t\u001b[0m \u001b[0;34m=\u001b[0m \u001b[0;34m(\u001b[0m\u001b[0mself\u001b[0m\u001b[0;34m.\u001b[0m\u001b[0mbeta_2\u001b[0m \u001b[0;34m*\u001b[0m \u001b[0mv\u001b[0m\u001b[0;34m)\u001b[0m \u001b[0;34m+\u001b[0m \u001b[0;34m(\u001b[0m\u001b[0;36m1.\u001b[0m \u001b[0;34m-\u001b[0m \u001b[0mself\u001b[0m\u001b[0;34m.\u001b[0m\u001b[0mbeta_2\u001b[0m\u001b[0;34m)\u001b[0m \u001b[0;34m*\u001b[0m \u001b[0mK\u001b[0m\u001b[0;34m.\u001b[0m\u001b[0msquare\u001b[0m\u001b[0;34m(\u001b[0m\u001b[0mg\u001b[0m\u001b[0;34m)\u001b[0m\u001b[0;34m\u001b[0m\u001b[0m\n\u001b[1;32m    435\u001b[0m             \u001b[0mp_t\u001b[0m \u001b[0;34m=\u001b[0m \u001b[0mp\u001b[0m \u001b[0;34m-\u001b[0m \u001b[0mlr_t\u001b[0m \u001b[0;34m*\u001b[0m \u001b[0mm_t\u001b[0m \u001b[0;34m/\u001b[0m \u001b[0;34m(\u001b[0m\u001b[0mK\u001b[0m\u001b[0;34m.\u001b[0m\u001b[0msqrt\u001b[0m\u001b[0;34m(\u001b[0m\u001b[0mv_t\u001b[0m\u001b[0;34m)\u001b[0m \u001b[0;34m+\u001b[0m \u001b[0mself\u001b[0m\u001b[0;34m.\u001b[0m\u001b[0mepsilon\u001b[0m\u001b[0;34m)\u001b[0m\u001b[0;34m\u001b[0m\u001b[0m\n",
      "\u001b[0;32m/home/kopita/anaconda3/envs/ml/lib/python3.6/site-packages/tensorflow/python/ops/math_ops.py\u001b[0m in \u001b[0;36mbinary_op_wrapper\u001b[0;34m(x, y)\u001b[0m\n\u001b[1;32m    791\u001b[0m     \u001b[0;32mwith\u001b[0m \u001b[0mops\u001b[0m\u001b[0;34m.\u001b[0m\u001b[0mname_scope\u001b[0m\u001b[0;34m(\u001b[0m\u001b[0;32mNone\u001b[0m\u001b[0;34m,\u001b[0m \u001b[0mop_name\u001b[0m\u001b[0;34m,\u001b[0m \u001b[0;34m[\u001b[0m\u001b[0mx\u001b[0m\u001b[0;34m,\u001b[0m \u001b[0my\u001b[0m\u001b[0;34m]\u001b[0m\u001b[0;34m)\u001b[0m \u001b[0;32mas\u001b[0m \u001b[0mname\u001b[0m\u001b[0;34m:\u001b[0m\u001b[0;34m\u001b[0m\u001b[0m\n\u001b[1;32m    792\u001b[0m       \u001b[0;32mif\u001b[0m \u001b[0;32mnot\u001b[0m \u001b[0misinstance\u001b[0m\u001b[0;34m(\u001b[0m\u001b[0my\u001b[0m\u001b[0;34m,\u001b[0m \u001b[0msparse_tensor\u001b[0m\u001b[0;34m.\u001b[0m\u001b[0mSparseTensor\u001b[0m\u001b[0;34m)\u001b[0m\u001b[0;34m:\u001b[0m\u001b[0;34m\u001b[0m\u001b[0m\n\u001b[0;32m--> 793\u001b[0;31m         \u001b[0my\u001b[0m \u001b[0;34m=\u001b[0m \u001b[0mops\u001b[0m\u001b[0;34m.\u001b[0m\u001b[0mconvert_to_tensor\u001b[0m\u001b[0;34m(\u001b[0m\u001b[0my\u001b[0m\u001b[0;34m,\u001b[0m \u001b[0mdtype\u001b[0m\u001b[0;34m=\u001b[0m\u001b[0mx\u001b[0m\u001b[0;34m.\u001b[0m\u001b[0mdtype\u001b[0m\u001b[0;34m.\u001b[0m\u001b[0mbase_dtype\u001b[0m\u001b[0;34m,\u001b[0m \u001b[0mname\u001b[0m\u001b[0;34m=\u001b[0m\u001b[0;34m\"y\"\u001b[0m\u001b[0;34m)\u001b[0m\u001b[0;34m\u001b[0m\u001b[0m\n\u001b[0m\u001b[1;32m    794\u001b[0m       \u001b[0;32mreturn\u001b[0m \u001b[0mfunc\u001b[0m\u001b[0;34m(\u001b[0m\u001b[0mx\u001b[0m\u001b[0;34m,\u001b[0m \u001b[0my\u001b[0m\u001b[0;34m,\u001b[0m \u001b[0mname\u001b[0m\u001b[0;34m=\u001b[0m\u001b[0mname\u001b[0m\u001b[0;34m)\u001b[0m\u001b[0;34m\u001b[0m\u001b[0m\n\u001b[1;32m    795\u001b[0m \u001b[0;34m\u001b[0m\u001b[0m\n",
      "\u001b[0;32m/home/kopita/anaconda3/envs/ml/lib/python3.6/site-packages/tensorflow/python/framework/ops.py\u001b[0m in \u001b[0;36mconvert_to_tensor\u001b[0;34m(value, dtype, name, preferred_dtype)\u001b[0m\n\u001b[1;32m    635\u001b[0m       \u001b[0mname\u001b[0m\u001b[0;34m=\u001b[0m\u001b[0mname\u001b[0m\u001b[0;34m,\u001b[0m\u001b[0;34m\u001b[0m\u001b[0m\n\u001b[1;32m    636\u001b[0m       \u001b[0mpreferred_dtype\u001b[0m\u001b[0;34m=\u001b[0m\u001b[0mpreferred_dtype\u001b[0m\u001b[0;34m,\u001b[0m\u001b[0;34m\u001b[0m\u001b[0m\n\u001b[0;32m--> 637\u001b[0;31m       as_ref=False)\n\u001b[0m\u001b[1;32m    638\u001b[0m \u001b[0;34m\u001b[0m\u001b[0m\n\u001b[1;32m    639\u001b[0m \u001b[0;34m\u001b[0m\u001b[0m\n",
      "\u001b[0;32m/home/kopita/anaconda3/envs/ml/lib/python3.6/site-packages/tensorflow/python/framework/ops.py\u001b[0m in \u001b[0;36minternal_convert_to_tensor\u001b[0;34m(value, dtype, name, as_ref, preferred_dtype)\u001b[0m\n\u001b[1;32m    700\u001b[0m \u001b[0;34m\u001b[0m\u001b[0m\n\u001b[1;32m    701\u001b[0m         \u001b[0;32mif\u001b[0m \u001b[0mret\u001b[0m \u001b[0;32mis\u001b[0m \u001b[0;32mNone\u001b[0m\u001b[0;34m:\u001b[0m\u001b[0;34m\u001b[0m\u001b[0m\n\u001b[0;32m--> 702\u001b[0;31m           \u001b[0mret\u001b[0m \u001b[0;34m=\u001b[0m \u001b[0mconversion_func\u001b[0m\u001b[0;34m(\u001b[0m\u001b[0mvalue\u001b[0m\u001b[0;34m,\u001b[0m \u001b[0mdtype\u001b[0m\u001b[0;34m=\u001b[0m\u001b[0mdtype\u001b[0m\u001b[0;34m,\u001b[0m \u001b[0mname\u001b[0m\u001b[0;34m=\u001b[0m\u001b[0mname\u001b[0m\u001b[0;34m,\u001b[0m \u001b[0mas_ref\u001b[0m\u001b[0;34m=\u001b[0m\u001b[0mas_ref\u001b[0m\u001b[0;34m)\u001b[0m\u001b[0;34m\u001b[0m\u001b[0m\n\u001b[0m\u001b[1;32m    703\u001b[0m \u001b[0;34m\u001b[0m\u001b[0m\n\u001b[1;32m    704\u001b[0m         \u001b[0;32mif\u001b[0m \u001b[0mret\u001b[0m \u001b[0;32mis\u001b[0m \u001b[0mNotImplemented\u001b[0m\u001b[0;34m:\u001b[0m\u001b[0;34m\u001b[0m\u001b[0m\n",
      "\u001b[0;32m/home/kopita/anaconda3/envs/ml/lib/python3.6/site-packages/tensorflow/python/framework/constant_op.py\u001b[0m in \u001b[0;36m_constant_tensor_conversion_function\u001b[0;34m(v, dtype, name, as_ref)\u001b[0m\n\u001b[1;32m    108\u001b[0m                                          as_ref=False):\n\u001b[1;32m    109\u001b[0m   \u001b[0m_\u001b[0m \u001b[0;34m=\u001b[0m \u001b[0mas_ref\u001b[0m\u001b[0;34m\u001b[0m\u001b[0m\n\u001b[0;32m--> 110\u001b[0;31m   \u001b[0;32mreturn\u001b[0m \u001b[0mconstant\u001b[0m\u001b[0;34m(\u001b[0m\u001b[0mv\u001b[0m\u001b[0;34m,\u001b[0m \u001b[0mdtype\u001b[0m\u001b[0;34m=\u001b[0m\u001b[0mdtype\u001b[0m\u001b[0;34m,\u001b[0m \u001b[0mname\u001b[0m\u001b[0;34m=\u001b[0m\u001b[0mname\u001b[0m\u001b[0;34m)\u001b[0m\u001b[0;34m\u001b[0m\u001b[0m\n\u001b[0m\u001b[1;32m    111\u001b[0m \u001b[0;34m\u001b[0m\u001b[0m\n\u001b[1;32m    112\u001b[0m \u001b[0;34m\u001b[0m\u001b[0m\n",
      "\u001b[0;32m/home/kopita/anaconda3/envs/ml/lib/python3.6/site-packages/tensorflow/python/framework/constant_op.py\u001b[0m in \u001b[0;36mconstant\u001b[0;34m(value, dtype, shape, name, verify_shape)\u001b[0m\n\u001b[1;32m     97\u001b[0m   \u001b[0mtensor_value\u001b[0m \u001b[0;34m=\u001b[0m \u001b[0mattr_value_pb2\u001b[0m\u001b[0;34m.\u001b[0m\u001b[0mAttrValue\u001b[0m\u001b[0;34m(\u001b[0m\u001b[0;34m)\u001b[0m\u001b[0;34m\u001b[0m\u001b[0m\n\u001b[1;32m     98\u001b[0m   tensor_value.tensor.CopyFrom(\n\u001b[0;32m---> 99\u001b[0;31m       tensor_util.make_tensor_proto(value, dtype=dtype, shape=shape, verify_shape=verify_shape))\n\u001b[0m\u001b[1;32m    100\u001b[0m   \u001b[0mdtype_value\u001b[0m \u001b[0;34m=\u001b[0m \u001b[0mattr_value_pb2\u001b[0m\u001b[0;34m.\u001b[0m\u001b[0mAttrValue\u001b[0m\u001b[0;34m(\u001b[0m\u001b[0mtype\u001b[0m\u001b[0;34m=\u001b[0m\u001b[0mtensor_value\u001b[0m\u001b[0;34m.\u001b[0m\u001b[0mtensor\u001b[0m\u001b[0;34m.\u001b[0m\u001b[0mdtype\u001b[0m\u001b[0;34m)\u001b[0m\u001b[0;34m\u001b[0m\u001b[0m\n\u001b[1;32m    101\u001b[0m   const_tensor = g.create_op(\n",
      "\u001b[0;32m/home/kopita/anaconda3/envs/ml/lib/python3.6/site-packages/tensorflow/python/framework/tensor_util.py\u001b[0m in \u001b[0;36mmake_tensor_proto\u001b[0;34m(values, dtype, shape, verify_shape)\u001b[0m\n\u001b[1;32m    358\u001b[0m   \u001b[0;32melse\u001b[0m\u001b[0;34m:\u001b[0m\u001b[0;34m\u001b[0m\u001b[0m\n\u001b[1;32m    359\u001b[0m     \u001b[0;32mif\u001b[0m \u001b[0mvalues\u001b[0m \u001b[0;32mis\u001b[0m \u001b[0;32mNone\u001b[0m\u001b[0;34m:\u001b[0m\u001b[0;34m\u001b[0m\u001b[0m\n\u001b[0;32m--> 360\u001b[0;31m       \u001b[0;32mraise\u001b[0m \u001b[0mValueError\u001b[0m\u001b[0;34m(\u001b[0m\u001b[0;34m\"None values not supported.\"\u001b[0m\u001b[0;34m)\u001b[0m\u001b[0;34m\u001b[0m\u001b[0m\n\u001b[0m\u001b[1;32m    361\u001b[0m     \u001b[0;31m# if dtype is provided, forces numpy array to be the type\u001b[0m\u001b[0;34m\u001b[0m\u001b[0;34m\u001b[0m\u001b[0m\n\u001b[1;32m    362\u001b[0m     \u001b[0;31m# provided if possible.\u001b[0m\u001b[0;34m\u001b[0m\u001b[0;34m\u001b[0m\u001b[0m\n",
      "\u001b[0;31mValueError\u001b[0m: None values not supported."
     ]
    }
   ],
   "source": [
    "# Custom loss function\n",
    "from keras import backend as K\n",
    "\n",
    "choice_penalty = 5\n",
    "\n",
    "def custom_loss(y_true, y_pred):\n",
    "    y_true_questions = y_true[:, :n_questions]\n",
    "    y_true_answers = y_true[:, n_questions:-2]\n",
    "    y_true_choice = y_true[:, -2:]\n",
    "    y_pred_questions = y_pred[:, :n_questions]\n",
    "    y_pred_answers = y_pred[:, n_questions:-2]\n",
    "    y_pred_choice = y_pred[:, -2:]\n",
    "    \n",
    "    L_questions = K.categorical_crossentropy(y_true_questions, y_pred_questions)\n",
    "    L_answers = K.categorical_crossentropy(y_true_answers, y_pred_answers)\n",
    "    L_choice = K.cast(K.abs(K.argmax(y_pred_choice) - K.argmax(y_true_choice)), dtype='float32')\n",
    "#     print(K.categorical_crossentropy(y_true, y_pred))\n",
    "#     print(L_questions)\n",
    "#     print(L_answers)\n",
    "#     print(L_choice)\n",
    "#     L = L_questions\n",
    "\n",
    "#     L = (K.cast(K.abs(K.argmax(y_pred_choice) - 1), dtype='float32'))\n",
    "#     L = K.cast(K.argmax(y_pred_choice), dtype='float32')\n",
    "#     L = K.cast(K.argmax(y_pred_choice, axis=-1), dtype='float32')\n",
    "#     L = y_pred_choice\n",
    "#     L = K.cast(K.abs(K.argmax(K.cast(y_pred_choice, dtype='float32'), axis=-1)), dtype='float32')\n",
    "    L = K.cast(K.argmax(y_pred_choice, axis=-1), dtype='float32')\n",
    "    L = K.cast(K.argmax(K.cast(y_true_choice, dtype='float32'), axis=-1), dtype='float32')\n",
    "#     L = K.cast(K.abs(K.argmax(y_pred_choice) - K.argmax(y_true_choice)), dtype='float32')\n",
    "    print(L)\n",
    "#     L = (K.cast(K.abs(K.argmax(y_pred_choice) - 1), dtype='float32') * L_questions)\n",
    "#     print(L)\n",
    "    \n",
    "#     L = (K.cast(K.abs(K.argmax(y_pred_choice) - 1), dtype='float32') * L_questions) + \\\n",
    "#         (K.cast(K.argmax(y_pred_choice), dtype='float32') * L_answers)\n",
    "#     L = (L_choice * choice_penalty) + (K.abs(L_choice - 1) * L_questions)\n",
    "#     print(L)\n",
    "    \n",
    "    return K.mean(L)\n",
    "\n",
    "model.compile(optimizer='adam', loss=custom_loss)\n",
    "h = model.fit_generator(data_gen, gen_batch, 500, verbose=0)"
   ]
  },
  {
   "cell_type": "code",
   "execution_count": null,
   "metadata": {
    "collapsed": true
   },
   "outputs": [],
   "source": []
  },
  {
   "cell_type": "code",
   "execution_count": null,
   "metadata": {
    "collapsed": true
   },
   "outputs": [],
   "source": []
  }
 ],
 "metadata": {
  "kernelspec": {
   "display_name": "Python 3",
   "language": "python",
   "name": "python3"
  },
  "language_info": {
   "codemirror_mode": {
    "name": "ipython",
    "version": 3
   },
   "file_extension": ".py",
   "mimetype": "text/x-python",
   "name": "python",
   "nbconvert_exporter": "python",
   "pygments_lexer": "ipython3",
   "version": "3.6.0"
  }
 },
 "nbformat": 4,
 "nbformat_minor": 2
}
