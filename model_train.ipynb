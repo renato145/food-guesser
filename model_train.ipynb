{
 "cells": [
  {
   "cell_type": "code",
   "execution_count": 1,
   "metadata": {
    "collapsed": false
   },
   "outputs": [
    {
     "name": "stderr",
     "output_type": "stream",
     "text": [
      "Using TensorFlow backend.\n"
     ]
    }
   ],
   "source": [
    "import random\n",
    "import numpy as np\n",
    "import pandas as pd\n",
    "\n",
    "from sklearn import tree\n",
    "from pprint import pprint\n",
    "from keras.utils.np_utils import to_categorical"
   ]
  },
  {
   "cell_type": "code",
   "execution_count": 2,
   "metadata": {
    "collapsed": false
   },
   "outputs": [
    {
     "name": "stdout",
     "output_type": "stream",
     "text": [
      "Data information:\n",
      "Number of plates: 24\n",
      "Number of questions: 19\n"
     ]
    }
   ],
   "source": [
    "FILE_NAME = 'data.csv'\n",
    "MAX_Q = 10\n",
    "\n",
    "# Data have 5 scales:\n",
    "#     +1   : True\n",
    "#     +0.5 : Maybe true\n",
    "#     0    : Unknown\n",
    "#     -0.5 : Maybe false\n",
    "#     -1   : False\n",
    "\n",
    "df = pd.read_csv(FILE_NAME, index_col=0)\n",
    "idx2col = {i:col for i, col in enumerate(df.columns)}\n",
    "idx2row = {i:row for i, row in enumerate(df.index)}\n",
    "data = df.values\n",
    "n_questions = len(idx2col)\n",
    "n_plates = len(idx2row)\n",
    "\n",
    "print('Data information:')\n",
    "print('Number of plates: %d' % n_plates)\n",
    "print('Number of questions: %d' % n_questions)"
   ]
  },
  {
   "cell_type": "code",
   "execution_count": 3,
   "metadata": {
    "collapsed": true
   },
   "outputs": [],
   "source": [
    "# Util functions\n",
    "def is_unique(idx, data):\n",
    "    for i in range(len(data)):\n",
    "        if i != idx and np.all(data[idx] == data[i]):\n",
    "            return False\n",
    "    \n",
    "    return True"
   ]
  },
  {
   "cell_type": "code",
   "execution_count": 4,
   "metadata": {
    "collapsed": false
   },
   "outputs": [],
   "source": [
    "# Build decision tree\n",
    "X = data\n",
    "y = np.arange(n_plates)\n",
    "\n",
    "clf = tree.DecisionTreeClassifier(max_depth=20, random_state=0, criterion='entropy')\n",
    "clf = clf.fit(X, y)"
   ]
  },
  {
   "cell_type": "code",
   "execution_count": 6,
   "metadata": {
    "collapsed": false
   },
   "outputs": [
    {
     "name": "stdout",
     "output_type": "stream",
     "text": [
      "Plate: Causa rellena de pollo\n",
      "\n",
      "Questions:\n",
      "['Lleva papas?', 'Lleva pollo?', 'Es caliente?']\n",
      "\n",
      "Check uniqueness: True\n"
     ]
    }
   ],
   "source": [
    "# Check decision paths\n",
    "idx = random.choice(range(n_plates))\n",
    "t = [clf.tree_.feature[i] for i in clf.decision_path([X[idx]]).indices][:-1]\n",
    "\n",
    "print('Plate: %s\\n\\nQuestions:' % idx2row[idx])\n",
    "pprint([idx2col[i] for i in t])\n",
    "print('\\nCheck uniqueness: %s' % is_unique(idx, data[:, t]))"
   ]
  },
  {
   "cell_type": "code",
   "execution_count": 7,
   "metadata": {
    "collapsed": false
   },
   "outputs": [],
   "source": [
    "# Get paths for each plate\n",
    "plate_paths = []\n",
    "\n",
    "for idx in range(len(X)):\n",
    "    path = [clf.tree_.feature[i] for i in clf.decision_path([X[idx]]).indices][:-1]\n",
    "    plate_paths.append(path)\n",
    "\n",
    "# pprint(plate_paths)"
   ]
  },
  {
   "cell_type": "code",
   "execution_count": 15,
   "metadata": {
    "collapsed": false
   },
   "outputs": [
    {
     "name": "stdout",
     "output_type": "stream",
     "text": [
      "[15]\n",
      "[15, 11]\n",
      "[15, 11, 3]\n",
      "[15, 11, 3, 17]\n"
     ]
    }
   ],
   "source": [
    "for i in range(1, len(plate_paths[0])):\n",
    "    print(plate_paths[0][:i])\n",
    "    \n",
    "print(plate_paths[0][:i+1])"
   ]
  },
  {
   "cell_type": "code",
   "execution_count": 27,
   "metadata": {
    "collapsed": true
   },
   "outputs": [],
   "source": [
    "# Train data generator\n",
    "def generator(data, max_q, n_q, n_p):\n",
    "    # TODO: lyer behaviour\n",
    "    # TODO: unoptimize path\n",
    "    # TODO: use guess on paths (0.5 or -0.5)\n",
    "    while True:\n",
    "        t_x = []\n",
    "        t_y_q = []\n",
    "        t_y_p = []\n",
    "        t_y_c = []\n",
    "        \n",
    "        for plate, d in enumerate(data):\n",
    "            for i in range(1, len(d)):\n",
    "                t_x.append(d[:i])\n",
    "                t_y_q.append(d[i])\n",
    "                t_y_p.append(-1)\n",
    "                t_y_c.append(0)\n",
    "                \n",
    "            t_x.append(d[:i+1])\n",
    "            t_y_q.append(-1)\n",
    "            t_y_p.append(plate)\n",
    "            t_y_c.append(1)\n",
    "            \n",
    "        n = len(t_y_q)\n",
    "        out_x = np.zeros((n, max_q))\n",
    "        out_y_q = np.zeros((n, n_q))\n",
    "        out_y_p = np.zeros((n, n_p))\n",
    "        out_y_c = np.zeros((n, 2))\n",
    "        \n",
    "        for i in range(len(t_x)):\n",
    "            out_x[i, :len(t_x[i])] = np.asarray(t_x[i])\n",
    "            out_y_c[i] = to_categorical(t_y_c[i], 2)\n",
    "            \n",
    "            if t_y_q[i] > -1:\n",
    "                out_y_q[i] = to_categorical(t_y_q[i], n_q)\n",
    "            \n",
    "            if t_y_p[i] > -1:\n",
    "                out_y_p[i] = to_categorical(t_y_p[i], n_p)\n",
    "        \n",
    "        yield out_x, out_y_q, out_y_p, out_y_c"
   ]
  },
  {
   "cell_type": "code",
   "execution_count": 28,
   "metadata": {
    "collapsed": false,
    "scrolled": false
   },
   "outputs": [
    {
     "name": "stdout",
     "output_type": "stream",
     "text": [
      "[[ 15.   0.   0.   0.   0.   0.   0.   0.   0.   0.]\n",
      " [ 15.  11.   0.   0.   0.   0.   0.   0.   0.   0.]\n",
      " [ 15.  11.   3.   0.   0.   0.   0.   0.   0.   0.]\n",
      " [ 15.  11.   3.  17.   0.   0.   0.   0.   0.   0.]]\n",
      "[[ 0.  0.  0.  0.  0.  0.  0.  0.  0.  0.  0.  1.  0.  0.  0.  0.  0.  0.\n",
      "   0.]\n",
      " [ 0.  0.  0.  1.  0.  0.  0.  0.  0.  0.  0.  0.  0.  0.  0.  0.  0.  0.\n",
      "   0.]\n",
      " [ 0.  0.  0.  0.  0.  0.  0.  0.  0.  0.  0.  0.  0.  0.  0.  0.  0.  1.\n",
      "   0.]\n",
      " [ 0.  0.  0.  0.  0.  0.  0.  0.  0.  0.  0.  0.  0.  0.  0.  0.  0.  0.\n",
      "   0.]]\n",
      "[[ 0.  0.  0.  0.  0.  0.  0.  0.  0.  0.  0.  0.  0.  0.  0.  0.  0.  0.\n",
      "   0.  0.  0.  0.  0.  0.]\n",
      " [ 0.  0.  0.  0.  0.  0.  0.  0.  0.  0.  0.  0.  0.  0.  0.  0.  0.  0.\n",
      "   0.  0.  0.  0.  0.  0.]\n",
      " [ 0.  0.  0.  0.  0.  0.  0.  0.  0.  0.  0.  0.  0.  0.  0.  0.  0.  0.\n",
      "   0.  0.  0.  0.  0.  0.]\n",
      " [ 1.  0.  0.  0.  0.  0.  0.  0.  0.  0.  0.  0.  0.  0.  0.  0.  0.  0.\n",
      "   0.  0.  0.  0.  0.  0.]]\n",
      "[[ 1.  0.]\n",
      " [ 1.  0.]\n",
      " [ 1.  0.]\n",
      " [ 0.  1.]]\n"
     ]
    }
   ],
   "source": [
    "gen_test = generator(plate_paths, MAX_Q, n_questions, n_plates)\n",
    "\n",
    "for i, (t_x, t_y_q, t_y_p, t_y_c) in enumerate(gen_test):\n",
    "    if i == 1:\n",
    "        break\n",
    "    \n",
    "    print(t_x[:4])\n",
    "    print(t_y_q[:4])\n",
    "    print(t_y_p[:4])\n",
    "    print(t_y_c[:4])"
   ]
  },
  {
   "cell_type": "code",
   "execution_count": null,
   "metadata": {
    "collapsed": true
   },
   "outputs": [],
   "source": []
  },
  {
   "cell_type": "code",
   "execution_count": null,
   "metadata": {
    "collapsed": true
   },
   "outputs": [],
   "source": []
  },
  {
   "cell_type": "code",
   "execution_count": null,
   "metadata": {
    "collapsed": true
   },
   "outputs": [],
   "source": []
  },
  {
   "cell_type": "code",
   "execution_count": null,
   "metadata": {
    "collapsed": true
   },
   "outputs": [],
   "source": []
  },
  {
   "cell_type": "code",
   "execution_count": null,
   "metadata": {
    "collapsed": true
   },
   "outputs": [],
   "source": []
  }
 ],
 "metadata": {
  "kernelspec": {
   "display_name": "Python 3",
   "language": "python",
   "name": "python3"
  },
  "language_info": {
   "codemirror_mode": {
    "name": "ipython",
    "version": 3
   },
   "file_extension": ".py",
   "mimetype": "text/x-python",
   "name": "python",
   "nbconvert_exporter": "python",
   "pygments_lexer": "ipython3",
   "version": "3.6.0"
  }
 },
 "nbformat": 4,
 "nbformat_minor": 2
}
