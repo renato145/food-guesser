{
 "cells": [
  {
   "cell_type": "code",
   "execution_count": 7,
   "metadata": {
    "collapsed": false
   },
   "outputs": [],
   "source": [
    "import random\n",
    "import numpy as np\n",
    "import pandas as pd\n",
    "import matplotlib.pyplot as plt\n",
    "\n",
    "from sklearn import tree\n",
    "from pprint import pprint\n",
    "from keras.utils.np_utils import to_categorical\n",
    "\n",
    "%matplotlib inline"
   ]
  },
  {
   "cell_type": "code",
   "execution_count": 8,
   "metadata": {
    "collapsed": false
   },
   "outputs": [
    {
     "name": "stdout",
     "output_type": "stream",
     "text": [
      "Data information:\n",
      "Number of plates: 41\n",
      "Number of questions: 23\n"
     ]
    }
   ],
   "source": [
    "FILE_NAME = 'data.csv'\n",
    "MODEL_QUESTIONS_FILE = 'model_questions.h5'\n",
    "MODEL_ANSWER_FILE = 'model_answer.h5'\n",
    "MODELS_DATA_FILE = 'models_data.npy'\n",
    "\n",
    "# Data have 5 scales:\n",
    "#     +1   : True\n",
    "#     +0.5 : Maybe true\n",
    "#     0    : Unknown\n",
    "#     -0.5 : Maybe false\n",
    "#     -1   : False\n",
    "\n",
    "df = pd.read_csv(FILE_NAME, index_col=0)\n",
    "idx2col = {i:col for i, col in enumerate(df.columns)}\n",
    "idx2row = {i:row for i, row in enumerate(df.index)}\n",
    "idx2answer = {1: 'Si', 0.5: 'Creo que si', 0: 'No se', -0.5: 'Creo que no', -1: 'No'}\n",
    "data = df.values\n",
    "n_questions = len(idx2col)\n",
    "n_plates = len(idx2row)\n",
    "\n",
    "print('Data information:')\n",
    "print('Number of plates: %d' % n_plates)\n",
    "print('Number of questions: %d' % n_questions)"
   ]
  },
  {
   "cell_type": "code",
   "execution_count": 9,
   "metadata": {
    "collapsed": false
   },
   "outputs": [],
   "source": [
    "# Util functions\n",
    "def is_unique(idx, data):\n",
    "    idxs = []\n",
    "    \n",
    "    for i in range(len(data)):\n",
    "        if i != idx and np.all(data[idx] == data[i]):\n",
    "            idxs.append(i)\n",
    "            \n",
    "    if len(idxs) == 0:\n",
    "        return True, None\n",
    "    else:\n",
    "        return False, idxs"
   ]
  },
  {
   "cell_type": "code",
   "execution_count": 10,
   "metadata": {
    "collapsed": false
   },
   "outputs": [],
   "source": [
    "# Build decision tree\n",
    "X = data\n",
    "y = np.arange(n_plates)\n",
    "\n",
    "clf = tree.DecisionTreeClassifier(max_depth=20, random_state=0, criterion='entropy')\n",
    "clf = clf.fit(X, y)"
   ]
  },
  {
   "cell_type": "code",
   "execution_count": 11,
   "metadata": {
    "collapsed": false
   },
   "outputs": [
    {
     "name": "stdout",
     "output_type": "stream",
     "text": [
      "Plate: Caldo de gallina\n",
      "\n",
      "Questions:\n",
      "['Lleva cebolla?',\n",
      " 'Lleva fideos?',\n",
      " 'Es liquido/sopa?',\n",
      " 'Lleva pollo/gallina?',\n",
      " 'Lleva huevo?']\n",
      "\n",
      "Check uniqueness: True\n"
     ]
    }
   ],
   "source": [
    "# Check decision paths\n",
    "idx = random.choice(range(n_plates))\n",
    "t = [clf.tree_.feature[i] for i in clf.decision_path([X[idx]]).indices][:-1]\n",
    "\n",
    "print('Plate: %s\\n\\nQuestions:' % idx2row[idx])\n",
    "pprint([idx2col[i] for i in t])\n",
    "print('\\nCheck uniqueness: %s' % is_unique(idx, data[:, t])[0])"
   ]
  },
  {
   "cell_type": "code",
   "execution_count": 12,
   "metadata": {
    "collapsed": false
   },
   "outputs": [
    {
     "name": "stdout",
     "output_type": "stream",
     "text": [
      "Max path length: 7\n",
      "Max_Q = 14\n"
     ]
    }
   ],
   "source": [
    "# Get paths for each plate\n",
    "plate_paths = []\n",
    "\n",
    "for idx in range(len(X)):\n",
    "    path = [clf.tree_.feature[i] for i in clf.decision_path([X[idx]]).indices][:-1]\n",
    "    plate_paths.append(path)\n",
    "\n",
    "# pprint(plate_paths)\n",
    "max_path_length = np.max([len(i) for i in plate_paths])\n",
    "MAX_Q = int(max_path_length * 2)\n",
    "print('Max path length: %d' % max_path_length)\n",
    "print('Max_Q = %d' % MAX_Q)"
   ]
  },
  {
   "cell_type": "code",
   "execution_count": 13,
   "metadata": {
    "collapsed": false
   },
   "outputs": [],
   "source": [
    "# Train data generator\n",
    "def generator(data, plates_data, n_q, n_p, mode):\n",
    "    # TODO: lyer behaviour\n",
    "    # TODO: unoptimize path\n",
    "    # TODO: use guess on paths (0.5 or -0.5)\n",
    "    while True:\n",
    "        t_x_a = []\n",
    "        t_x_b = []\n",
    "        t_y_q = []\n",
    "        t_y_p = []\n",
    "        t_y_c = []\n",
    "        current_plate = 0\n",
    "        \n",
    "        for plate, d in enumerate(data):\n",
    "            for i in range(1, len(d)):\n",
    "                t_x_a.append(d[:i])\n",
    "                t_x_b.append(current_plate)\n",
    "                t_y_q.append(d[i])\n",
    "                t_y_p.append(plate)\n",
    "                t_y_c.append(0)\n",
    "            \n",
    "            if i < len(d) - 1:\n",
    "                current_plate += 1\n",
    "                \n",
    "            t_x_a.append(d[:i+1])\n",
    "            t_x_b.append(current_plate)\n",
    "            t_y_q.append(-1)\n",
    "            t_y_p.append(plate)\n",
    "            t_y_c.append(1)\n",
    "            \n",
    "        n = len(t_y_q)\n",
    "        out_x_a = np.zeros((n, n_q))\n",
    "        out_x_b = np.zeros((n, n_q))\n",
    "        out_y_q = np.zeros((n, n_q))\n",
    "        out_y_p = np.zeros((n, n_p))\n",
    "        out_y_c = np.zeros((n, 2))\n",
    "        \n",
    "        for i in range(len(t_x_a)):\n",
    "            out_x_a[i, :len(t_x_a[i])] = np.asarray(t_x_a[i])\n",
    "            out_x_b[i, :len(t_x_a[i])] = np.asarray(plates_data[t_x_b[i]][t_x_a[i]])\n",
    "            out_x = np.hstack([out_x_a, out_x_b])\n",
    "            out_y_c[i] = to_categorical(t_y_c[i], 2)\n",
    "            \n",
    "            if t_y_q[i] > -1:\n",
    "                out_y_q[i] = to_categorical(t_y_q[i], n_q)\n",
    "            \n",
    "            if t_y_p[i] > -1:\n",
    "                out_y_p[i] = to_categorical(t_y_p[i], n_p)\n",
    "        \n",
    "        if mode == 'questions':\n",
    "            yield [out_x_a, out_x_b], [out_y_q, out_y_c]\n",
    "        elif mode == 'answers':\n",
    "            yield out_x_b, out_y_p"
   ]
  },
  {
   "cell_type": "code",
   "execution_count": 14,
   "metadata": {
    "collapsed": false,
    "scrolled": false
   },
   "outputs": [
    {
     "name": "stdout",
     "output_type": "stream",
     "text": [
      "Batchs per generator iter: 222\n",
      "First question: 15 (Lleva cebolla?)\n"
     ]
    }
   ],
   "source": [
    "# Test generator\n",
    "data_gen = generator(plate_paths, data, n_questions, n_plates, 'questions')\n",
    "\n",
    "for i, ([t_x_a, t_x_b], [t_y_q, t_y_c]) in enumerate(data_gen):\n",
    "    if i == 1:\n",
    "        break\n",
    "    \n",
    "    gen_batch = len(t_x_a)\n",
    "\n",
    "count = np.unique(t_x_a[:, 0], return_counts=True)\n",
    "first_question = int(count[0][np.argmax(count[1])])\n",
    "    \n",
    "print('Batchs per generator iter: %d' % gen_batch)\n",
    "print('First question: %d (%s)' % (first_question, idx2col[first_question]))"
   ]
  },
  {
   "cell_type": "code",
   "execution_count": 15,
   "metadata": {
    "collapsed": false
   },
   "outputs": [
    {
     "name": "stdout",
     "output_type": "stream",
     "text": [
      "Question train\n"
     ]
    },
    {
     "data": {
      "image/png": "[encoded data removed]",
      "text/plain": [
       "<matplotlib.figure.Figure at 0x7f2c2b0539e8>"
      ]
     },
     "metadata": {},
     "output_type": "display_data"
    },
    {
     "data": {
      "image/png": "[encoded data removed]",
      "text/plain": [
       "<matplotlib.figure.Figure at 0x7f2c280bffd0>"
      ]
     },
     "metadata": {},
     "output_type": "display_data"
    },
    {
     "data": {
      "image/png": "[encoded data removed]",
      "text/plain": [
       "<matplotlib.figure.Figure at 0x7f2c21746c50>"
      ]
     },
     "metadata": {},
     "output_type": "display_data"
    },
    {
     "data": {
      "image/png": "[encoded data removed]",
      "text/plain": [
       "<matplotlib.figure.Figure at 0x7f2c216e7b70>"
      ]
     },
     "metadata": {},
     "output_type": "display_data"
    },
    {
     "data": {
      "image/png": "[encoded data removed]",
      "text/plain": [
       "<matplotlib.figure.Figure at 0x7f2c2165f550>"
      ]
     },
     "metadata": {},
     "output_type": "display_data"
    }
   ],
   "source": [
    "# Build model\n",
    "from keras.layers import Input, Dense, BatchNormalization, concatenate, Activation\n",
    "from keras.models import Model\n",
    "from keras import backend as K\n",
    "from keras.initializers import Constant\n",
    "\n",
    "choice_penalty = 10\n",
    "input_question = Input(shape=(n_questions,))\n",
    "input_data = Input(shape=(n_questions,))\n",
    "\n",
    "x1 = concatenate([input_question, input_data], axis=-1)\n",
    "x1 = Dense(128, kernel_initializer='he_uniform', bias_initializer=Constant(1e-2))(x1)\n",
    "x1 = BatchNormalization()(x1)\n",
    "x1 = Activation('relu')(x1)\n",
    "x1 = Dense(256, kernel_initializer='he_uniform', bias_initializer=Constant(1e-2))(x1)\n",
    "x1 = BatchNormalization()(x1)\n",
    "x1 = Activation('relu')(x1)\n",
    "\n",
    "x2 = Dense(128, kernel_initializer='he_uniform', bias_initializer=Constant(1e-2))(input_data)\n",
    "x2 = BatchNormalization()(x2)\n",
    "x2 = Activation('relu')(x2)\n",
    "x2 = Dense(256, activation='relu', kernel_initializer='he_uniform', bias_initializer=Constant(1e-2))(x2)\n",
    "x2 = BatchNormalization()(x2)\n",
    "x2 = Activation('relu')(x2)\n",
    "\n",
    "out_question = Dense(n_questions)(x1)\n",
    "out_question = BatchNormalization()(out_question)\n",
    "out_question = Activation('softmax')(out_question)\n",
    "out_choice = Dense(2)(x1)\n",
    "out_choice = BatchNormalization()(out_choice)\n",
    "out_choice = Activation('softmax')(out_choice)\n",
    "out_answer = Dense(n_plates)(x2)\n",
    "out_answer = BatchNormalization()(out_answer)\n",
    "out_answer = Activation('softmax')(out_answer)\n",
    "\n",
    "model1 = Model(inputs=[input_question, input_data], outputs=[out_question, out_choice])\n",
    "model1.compile(optimizer='nadam', loss='categorical_crossentropy', metrics=['accuracy'], \n",
    "              loss_weights=[1, choice_penalty])\n",
    "\n",
    "model2 = Model(inputs=input_data, outputs=out_answer)\n",
    "model2.compile(optimizer='nadam', loss='categorical_crossentropy', metrics=['accuracy'])\n",
    "\n",
    "print('Question train')\n",
    "gen = generator(plate_paths, data, n_questions, n_plates, 'questions')\n",
    "h = model1.fit_generator(gen, gen_batch, 25, verbose=0)\n",
    "\n",
    "for k in h.history.keys():\n",
    "    plt.plot(h.history[k])\n",
    "    plt.title(k)\n",
    "    plt.show()"
   ]
  },
  {
   "cell_type": "code",
   "execution_count": 16,
   "metadata": {
    "collapsed": false
   },
   "outputs": [
    {
     "name": "stdout",
     "output_type": "stream",
     "text": [
      "Answer train\n"
     ]
    },
    {
     "data": {
      "image/png": "[encoded data removed]",
      "text/plain": [
       "<matplotlib.figure.Figure at 0x7f2c2b8c5e80>"
      ]
     },
     "metadata": {},
     "output_type": "display_data"
    },
    {
     "data": {
      "image/png": "[encoded data removed]",
      "text/plain": [
       "<matplotlib.figure.Figure at 0x7f2c017a6d30>"
      ]
     },
     "metadata": {},
     "output_type": "display_data"
    }
   ],
   "source": [
    "print('Answer train')\n",
    "h = model2.fit(x=data, y=np.identity(len(data)), batch_size=128, epochs=100, verbose=0)\n",
    "\n",
    "for k in h.history.keys():\n",
    "    plt.plot(h.history[k])\n",
    "    plt.title(k)\n",
    "    plt.show()"
   ]
  },
  {
   "cell_type": "code",
   "execution_count": 17,
   "metadata": {
    "collapsed": false
   },
   "outputs": [],
   "source": [
    "# Model utils\n",
    "def build_input(path, data):\n",
    "    out_a = np.zeros_like(data)\n",
    "    out_b = np.zeros_like(data)\n",
    "    out_a[:len(path)] = np.asarray(path)\n",
    "    out_a = out_a.reshape([1, -1])\n",
    "    out_b[:len(path)] = data[path]\n",
    "    out_b = out_b.reshape([1, -1])\n",
    "    \n",
    "    return [out_a, out_b]\n",
    "\n",
    "def get_output(y, top=5):\n",
    "    questions, choice = y\n",
    "    out_type = 'question' if np.argmax(choice) == 0 else 'answer'\n",
    "    top_idx = questions.argsort()[0][::-1][:top]\n",
    "    top_prb = questions[0, top_idx]\n",
    "    \n",
    "    return out_type, top_idx, top_prb"
   ]
  },
  {
   "cell_type": "code",
   "execution_count": 33,
   "metadata": {
    "collapsed": false,
    "scrolled": false
   },
   "outputs": [
    {
     "name": "stdout",
     "output_type": "stream",
     "text": [
      "Target plate: Rocoto relleno\n",
      "Optimal path of questions: ['Lleva cebolla?', 'Lleva fideos?', 'Lleva carne de res?', 'Lleva papas?', 'Consiste en algun relleno o masa de harina?']\n",
      "\n",
      "Question #1\n",
      "Lleva cebolla? (Si)\n",
      "\n",
      "Question #2\n",
      "Lleva pollo/gallina? (No)\n",
      "\n",
      "Question #3\n",
      "Es liquido/sopa? (No)\n",
      "\n",
      "Question #4\n",
      "Lleva algun tipo de carne, pescado o mariscos? (Si)\n",
      "\n",
      "Question #5\n",
      "Lleva salsa de tomates? (No)\n",
      "\n",
      "Question #6\n",
      "Lleva fideos? (No)\n",
      "\n",
      "Question #7\n",
      "Es comida china? (No)\n",
      "\n",
      "Question #8\n",
      "Consiste en algun relleno o masa de harina? (Si)\n",
      "\n",
      "Question #9\n",
      "Lleva zapallo? (No)\n",
      "\n",
      "Question #10\n",
      "Lleva arroz? (No)\n",
      "\n",
      "Question #11\n",
      "Lleva pescado? (No)\n",
      "\n",
      "Question #12\n",
      "Lleva chicha de jora? (No)\n",
      "\n",
      "Question #13\n",
      "Lleva chancho? (No)\n",
      "\n",
      "Question #14\n",
      "Lleva carne de res? (Si)\n",
      "\n",
      "Answer probs:\n",
      "Real answer: Rocoto relleno\n",
      "Papa rellena              = 73.77 %\n",
      "Rocoto relleno            = 26.12 %\n",
      "Quesadilla                = 0.00 %\n",
      "Tequeños                  = 0.00 %\n",
      "Humita dulce              = 0.00 %\n",
      "\n",
      "Check uniqueness: False\n",
      "Rocoto relleno, Papa rellena."
     ]
    }
   ],
   "source": [
    "# Get random test\n",
    "choice = random.choice(range(len(X)))\n",
    "choice = random.choice(errors)\n",
    "plate_name = idx2row[y[choice]]\n",
    "plate_data = X[choice]\n",
    "plate_best_path = plate_paths[choice]\n",
    "print('Target plate: %s' % plate_name)\n",
    "print('Optimal path of questions: %s' % [idx2col[i] for i in plate_best_path])\n",
    "\n",
    "# Ask questions\n",
    "test_path = []\n",
    "i = 0\n",
    "pred_type = 'question'\n",
    "\n",
    "while pred_type != 'answer':\n",
    "    if i == 0:\n",
    "        pred_type = 'question'\n",
    "        pred_val = first_question\n",
    "    else:\n",
    "        pred = model1.predict(build_input(test_path, plate_data))\n",
    "        limit = n_questions\n",
    "        pred_type, pred_vals, pred_probs = get_output(pred, limit)\n",
    "        \n",
    "        for j in range(limit):\n",
    "            if pred_vals[j] in test_path:\n",
    "                continue\n",
    "            else:\n",
    "                pred_val = pred_vals[j]\n",
    "                break\n",
    "   \n",
    "    unique_plate, possible_plates = is_unique(choice, data[:, test_path])\n",
    "        \n",
    "    if not unique_plate and i < MAX_Q:\n",
    "        print('\\nQuestion #%d' % (i + 1))\n",
    "        print('%s (%s)' % (idx2col[pred_val], idx2answer[plate_data[pred_val]]))\n",
    "        pred_type = 'question'\n",
    "    else:\n",
    "        break\n",
    "        \n",
    "    test_path.append(pred_val)\n",
    "    i += 1\n",
    "    \n",
    "answer = np.zeros_like(plate_data)\n",
    "idxs = np.unique([i for i in test_path if i is not None])\n",
    "answer[idxs] = plate_data[idxs]\n",
    "pred2 = model2.predict(answer.reshape([1,-1]))\n",
    "top_5_idx = pred2.argsort()[0][::-1][:5]\n",
    "top_5_txt = [idx2row[i] for i in top_5_idx]\n",
    "top_5_prb = pred2[0, top_5_idx]\n",
    "\n",
    "print('\\nAnswer probs:')\n",
    "print('Real answer: %s' % plate_name)\n",
    "\n",
    "for i in zip(top_5_txt, top_5_prb):\n",
    "    print('%-25s = %.2f %%' % (i[0], i[1]*100))\n",
    "    \n",
    "unique_plate, possible_plates = is_unique(choice, data[:, test_path])\n",
    "print('\\nCheck uniqueness: %s' % unique_plate)\n",
    "\n",
    "if not unique_plate:\n",
    "    print(idx2row[choice], end=', ')\n",
    "    print(', '.join([idx2row[i] for i in possible_plates]), end='.')"
   ]
  },
  {
   "cell_type": "code",
   "execution_count": 22,
   "metadata": {
    "collapsed": false
   },
   "outputs": [
    {
     "name": "stdout",
     "output_type": "stream",
     "text": [
      "Errors = 10\n",
      "['Arroz con pollo peruano', 'Aji de gallina', 'Carapulcra', 'Quesadilla', 'Köttbullar', 'Tequeños', 'Parihuela', 'Tamal de pollo', 'Arroz con pollo', 'Rocoto relleno']\n"
     ]
    }
   ],
   "source": [
    "# Build check training data\n",
    "f_extra_train_X = np.zeros((0, n_questions))\n",
    "f_extra_train_y = np.zeros((0, n_plates))\n",
    "f_extra_train_weights = np.array([])\n",
    "errors = []\n",
    "MIN_Q_TRAIN = 5\n",
    "MAX_Q_TRAIN = 15\n",
    "\n",
    "for M_Q in range(MIN_Q_TRAIN, MAX_Q_TRAIN):\n",
    "    extra_train_X = np.zeros_like(data)\n",
    "    extra_train_weights = np.ones(n_plates)\n",
    "    \n",
    "    for idx in range(n_plates):\n",
    "        choice = idx\n",
    "        plate_name = idx2row[y[choice]]\n",
    "        plate_data = X[choice]\n",
    "\n",
    "        # Ask questions\n",
    "        test_path = []\n",
    "        i = 0\n",
    "        pred_type = 'question'\n",
    "\n",
    "        while pred_type != 'answer':\n",
    "            if i == 0:\n",
    "                pred_type = 'question'\n",
    "                pred_val = first_question\n",
    "            else:\n",
    "                pred = model1.predict(build_input(test_path, plate_data))\n",
    "                limit = n_questions\n",
    "                pred_type, pred_vals, pred_probs = get_output(pred, limit)\n",
    "\n",
    "                for j in range(limit):\n",
    "                    if pred_vals[j] in test_path:\n",
    "                        continue\n",
    "                    else:\n",
    "                        pred_val = pred_vals[j]\n",
    "                        break\n",
    "\n",
    "            unique_plate, possible_plates = is_unique(choice, data[:, test_path])\n",
    "\n",
    "            if not unique_plate and i < M_Q:\n",
    "                pred_type = 'question'\n",
    "            else:\n",
    "                break\n",
    "\n",
    "            test_path.append(pred_val)\n",
    "            i += 1\n",
    "\n",
    "        answer = np.zeros_like(plate_data)\n",
    "        idxs = np.unique([i for i in test_path if i is not None])\n",
    "        answer[idxs] = plate_data[idxs]\n",
    "        pred2 = model2.predict(answer.reshape([1,-1]))\n",
    "        pred2 = np.argmax(pred2)\n",
    "\n",
    "        extra_train_X[idx] = answer\n",
    "    \n",
    "        if idx != pred2 and M_Q == MAX_Q:\n",
    "            extra_train_weights[idx] = 3\n",
    "            errors.append(idx)\n",
    "    \n",
    "    if M_Q == MAX_Q:\n",
    "        print('Errors = %d' % len(errors))\n",
    "        print([idx2row[i] for i in errors])\n",
    "        \n",
    "    f_extra_train_X = np.vstack([f_extra_train_X, extra_train_X])\n",
    "    f_extra_train_y = np.vstack([f_extra_train_y, np.identity(len(data))])\n",
    "    f_extra_train_weights = np.hstack([f_extra_train_weights, extra_train_weights])"
   ]
  },
  {
   "cell_type": "code",
   "execution_count": 20,
   "metadata": {
    "collapsed": false
   },
   "outputs": [
    {
     "data": {
      "text/plain": [
       "14"
      ]
     },
     "execution_count": 20,
     "metadata": {},
     "output_type": "execute_result"
    }
   ],
   "source": [
    "MAX_Q"
   ]
  },
  {
   "cell_type": "code",
   "execution_count": null,
   "metadata": {
    "collapsed": false
   },
   "outputs": [],
   "source": [
    "MAX_Q = 12\n",
    "MAX_Q"
   ]
  },
  {
   "cell_type": "code",
   "execution_count": 21,
   "metadata": {
    "collapsed": false
   },
   "outputs": [
    {
     "name": "stdout",
     "output_type": "stream",
     "text": [
      "Final train:\n"
     ]
    },
    {
     "data": {
      "image/png": "[encoded data removed]",
      "text/plain": [
       "<matplotlib.figure.Figure at 0x7f2c2174a978>"
      ]
     },
     "metadata": {},
     "output_type": "display_data"
    },
    {
     "data": {
      "image/png": "[encoded data removed]",
      "text/plain": [
       "<matplotlib.figure.Figure at 0x7f2c216e0e10>"
      ]
     },
     "metadata": {},
     "output_type": "display_data"
    }
   ],
   "source": [
    "print('Final train:')\n",
    "train_X = np.vstack([data, extra_train_X])\n",
    "train_y = np.vstack([np.identity(len(data)), np.identity(len(data))])\n",
    "train_weights = np.hstack([np.ones(n_plates), extra_train_weights])\n",
    "h = model2.fit(x=train_X, y=train_y, sample_weight=train_weights, batch_size=128, epochs=2000, verbose=0)\n",
    "\n",
    "for k in h.history.keys():\n",
    "    plt.plot(h.history[k])\n",
    "    plt.title(k)\n",
    "    plt.show()"
   ]
  },
  {
   "cell_type": "code",
   "execution_count": 34,
   "metadata": {
    "collapsed": false
   },
   "outputs": [],
   "source": [
    "# Save files\n",
    "model1.save(MODEL_QUESTIONS_FILE)\n",
    "model2.save(MODEL_ANSWER_FILE)\n",
    "models_data = np.asarray([MAX_Q, first_question], dtype=int)\n",
    "np.save(MODELS_DATA_FILE, models_data)"
   ]
  }
 ],
 "metadata": {
  "kernelspec": {
   "display_name": "Python 3",
   "language": "python",
   "name": "python3"
  },
  "language_info": {
   "codemirror_mode": {
    "name": "ipython",
    "version": 3
   },
   "file_extension": ".py",
   "mimetype": "text/x-python",
   "name": "python",
   "nbconvert_exporter": "python",
   "pygments_lexer": "ipython3",
   "version": "3.6.0"
  }
 },
 "nbformat": 4,
 "nbformat_minor": 2
}
