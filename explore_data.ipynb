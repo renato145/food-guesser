{
 "cells": [
  {
   "cell_type": "code",
   "execution_count": 1,
   "metadata": {
    "collapsed": false
   },
   "outputs": [],
   "source": [
    "import os\n",
    "import random\n",
    "import numpy as np\n",
    "import pandas as pd"
   ]
  },
  {
   "cell_type": "code",
   "execution_count": 2,
   "metadata": {
    "collapsed": false
   },
   "outputs": [
    {
     "name": "stdout",
     "output_type": "stream",
     "text": [
      "Data information:\n",
      "Number of plates: 24\n",
      "Number of questions: 19\n",
      "\n",
      "---CONFLICTS---\n",
      "\n",
      "YAY! no conflicts :)\n"
     ]
    }
   ],
   "source": [
    "FILE_NAME = 'data.csv'\n",
    "\n",
    "# Data have 5 scales:\n",
    "#     +1   : True\n",
    "#     +0.5 : Maybe true\n",
    "#     0    : Unknown\n",
    "#     -0.5 : Maybe false\n",
    "#     -1   : False\n",
    "\n",
    "df = pd.read_csv(FILE_NAME, index_col=0)\n",
    "idx2col = {i:col for i, col in enumerate(df.columns)}\n",
    "idx2row = {i:row for i, row in enumerate(df.index)}\n",
    "data = df.values\n",
    "\n",
    "print('Data information:')\n",
    "print('Number of plates: %d' % len(idx2row))\n",
    "print('Number of questions: %d' % len(idx2col))\n",
    "\n",
    "# Get conflicts\n",
    "print('\\n---CONFLICTS---\\n')\n",
    "\n",
    "done = 0\n",
    "max_conflicts = 5\n",
    "conflicts = []\n",
    "\n",
    "for i in range(len(data)):\n",
    "    for j in range(i+1, len(data)):\n",
    "        if np.all(data[i] == data[j]):\n",
    "            conflicts.append((i, j))\n",
    "            if len(conflicts) == max_conflicts:\n",
    "                done = 1\n",
    "                break\n",
    "    if done == 1:\n",
    "        break\n",
    "\n",
    "for i,j in conflicts:\n",
    "    print('Conflict between \\'%s\\' and \\'%s\\'' % (idx2row[i], idx2row[j]))\n",
    "    \n",
    "if len(conflicts) == 0:\n",
    "    print('YAY! no conflicts :)')"
   ]
  },
  {
   "cell_type": "code",
   "execution_count": 3,
   "metadata": {
    "collapsed": false
   },
   "outputs": [
    {
     "name": "stdout",
     "output_type": "stream",
     "text": [
      "Plate: Arroz con mariscos\n",
      "\n",
      "Es salado?: (True)\n",
      "Es dulce?: (False)\n",
      "Es picante?: (False)\n",
      "Es frio?: (False)\n",
      "Es caliente?: (True)\n",
      "Lleva arroz?: (True)\n",
      "Lleva pescado?: (False)\n",
      "Lleva pollo?: (False)\n",
      "Lleva fideos?: (False)\n",
      "Lleva carne de res?: (False)\n",
      "Lleva chancho?: (False)\n",
      "Es comida marina?: (True)\n",
      "Lleva zapallo?: (False)\n",
      "Es comida china?: (False)\n",
      "Lleva papas fritas?: (False)\n",
      "Lleva papas?: (False)\n",
      "Lleva papas secas?: (False)\n",
      "Lleva cebolla?: (False)\n",
      "Lleva huacatay?: (False)\n"
     ]
    }
   ],
   "source": [
    "def explore_plate(idx):\n",
    "    print('Plate: %s\\n' % idx2row[idx])\n",
    "    for i, d in enumerate(data[idx]):\n",
    "        t = 'True' if d > 0 else 'False'\n",
    "        print('%s: (%s)' % (idx2col[i], t))\n",
    "        \n",
    "explore_plate(random.choice(range(len(data))))"
   ]
  }
 ],
 "metadata": {
  "kernelspec": {
   "display_name": "Python 3",
   "language": "python",
   "name": "python3"
  },
  "language_info": {
   "codemirror_mode": {
    "name": "ipython",
    "version": 3
   },
   "file_extension": ".py",
   "mimetype": "text/x-python",
   "name": "python",
   "nbconvert_exporter": "python",
   "pygments_lexer": "ipython3",
   "version": "3.6.0"
  }
 },
 "nbformat": 4,
 "nbformat_minor": 2
}
