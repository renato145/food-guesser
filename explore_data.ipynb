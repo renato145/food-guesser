{
 "cells": [
  {
   "cell_type": "code",
   "execution_count": 1,
   "metadata": {
    "collapsed": false
   },
   "outputs": [],
   "source": [
    "import os\n",
    "import random\n",
    "import numpy as np\n",
    "import pandas as pd"
   ]
  },
  {
   "cell_type": "code",
   "execution_count": 2,
   "metadata": {
    "collapsed": false
   },
   "outputs": [
    {
     "name": "stdout",
     "output_type": "stream",
     "text": [
      "Data information:\n",
      "Number of plates: 41\n",
      "Number of questions: 23\n",
      "\n",
      "\n",
      "---CONFLICTS---\n",
      "\n",
      "Conflict between 'Quesadilla' and 'Tequeños'\n",
      "Conflict between 'Köttbullar' and 'Olluquito'\n"
     ]
    }
   ],
   "source": [
    "FILE_NAME = 'data.csv'\n",
    "\n",
    "# Data have 5 scales:\n",
    "#     +1   : True\n",
    "#     +0.5 : Maybe true\n",
    "#     0    : Unknown\n",
    "#     -0.5 : Maybe false\n",
    "#     -1   : False\n",
    "\n",
    "df = pd.read_csv(FILE_NAME, index_col=0)\n",
    "idx2col = {i:col for i, col in enumerate(df.columns)}\n",
    "idx2row = {i:row for i, row in enumerate(df.index)}\n",
    "data = df.values\n",
    "\n",
    "print('Data information:')\n",
    "print('Number of plates: %d' % len(idx2row))\n",
    "print('Number of questions: %d' % len(idx2col))\n",
    "\n",
    "# Duplicates\n",
    "p, c = np.unique(df.index, return_counts=True)\n",
    "if len(p[c > 1]) > 0:\n",
    "    print('\\nDuplicates found (%s), check rows: ' % p[c > 1][0])\n",
    "    for i, t in enumerate(df.index):\n",
    "        if t == p[c > 1][0]:\n",
    "            print(i + 2, end=', ')\n",
    "            \n",
    "# Get conflicts\n",
    "print('\\n\\n---CONFLICTS---\\n')\n",
    "\n",
    "done = 0\n",
    "max_conflicts = 5\n",
    "conflicts = []\n",
    "\n",
    "for i in range(len(data)):\n",
    "    for j in range(i+1, len(data)):\n",
    "        if np.all(data[i] == data[j]):\n",
    "            conflicts.append((i, j))\n",
    "            if len(conflicts) == max_conflicts:\n",
    "                done = 1\n",
    "                break\n",
    "    if done == 1:\n",
    "        break\n",
    "\n",
    "for i,j in conflicts:\n",
    "    print('Conflict between \\'%s\\' and \\'%s\\'' % (idx2row[i], idx2row[j]))\n",
    "    \n",
    "if len(conflicts) == 0:\n",
    "    print('YAY! no conflicts :)')"
   ]
  },
  {
   "cell_type": "code",
   "execution_count": 3,
   "metadata": {
    "collapsed": false
   },
   "outputs": [
    {
     "data": {
      "text/plain": [
       "array([ 9, 32, 36, 36, 33, 36, 28, 32, 32, 38, 34, 39, 39, 39, 30, 17, 31,\n",
       "       37, 39, 32, 39, 33, 39])"
      ]
     },
     "execution_count": 3,
     "metadata": {},
     "output_type": "execute_result"
    }
   ],
   "source": [
    "np.sum(data == -1, axis=0)"
   ]
  },
  {
   "cell_type": "code",
   "execution_count": 4,
   "metadata": {
    "collapsed": false
   },
   "outputs": [
    {
     "data": {
      "text/plain": [
       "array([32,  9,  5,  5,  8,  5, 13,  9,  9,  3,  7,  2,  2,  2, 11, 24, 10,\n",
       "        4,  2,  9,  2,  8,  2])"
      ]
     },
     "execution_count": 4,
     "metadata": {},
     "output_type": "execute_result"
    }
   ],
   "source": [
    "np.sum(data == 1, axis=0)"
   ]
  },
  {
   "cell_type": "code",
   "execution_count": 5,
   "metadata": {
    "collapsed": false
   },
   "outputs": [
    {
     "data": {
      "text/plain": [
       "[('Lleva zapallo?', 11),\n",
       " ('Lleva chicha de jora?', 20),\n",
       " ('Es comida de la selva?', 18),\n",
       " ('Lleva papas fritas?', 13),\n",
       " ('Es comida china?', 12),\n",
       " ('Lleva albahaca?', 22),\n",
       " ('Lleva chancho?', 9),\n",
       " ('Lleva salsa de tomates?', 17),\n",
       " ('Es frio?', 3),\n",
       " ('Lleva pescado?', 5),\n",
       " ('Es picante?', 2),\n",
       " ('Es comida marina?', 10),\n",
       " ('Lleva Queso?', 21),\n",
       " ('Lleva arroz?', 4),\n",
       " ('Lleva fideos?', 7),\n",
       " ('Lleva carne de res?', 8),\n",
       " ('Consiste en algun relleno o masa de harina?', 1),\n",
       " ('Es liquido/sopa?', 19),\n",
       " ('Lleva huevo?', 16),\n",
       " ('Lleva papas?', 14),\n",
       " ('Lleva pollo/gallina?', 6),\n",
       " ('Lleva cebolla?', 15),\n",
       " ('Lleva algun tipo de carne, pescado o mariscos?', 0)]"
      ]
     },
     "execution_count": 5,
     "metadata": {},
     "output_type": "execute_result"
    }
   ],
   "source": [
    "[(idx2col[i], i) for i in np.argsort(np.sum(data == 1, axis=0))]"
   ]
  },
  {
   "cell_type": "code",
   "execution_count": 6,
   "metadata": {
    "collapsed": false
   },
   "outputs": [
    {
     "name": "stdout",
     "output_type": "stream",
     "text": [
      "Plate: Sopa seca\n",
      "\n",
      "Lleva algun tipo de carne, pescado o mariscos?: (True)\n",
      "Consiste en algun relleno o masa de harina?: (False)\n",
      "Es picante?: (False)\n",
      "Es frio?: (False)\n",
      "Lleva arroz?: (False)\n",
      "Lleva pescado?: (False)\n",
      "Lleva pollo/gallina?: (True)\n",
      "Lleva fideos?: (True)\n",
      "Lleva carne de res?: (False)\n",
      "Lleva chancho?: (False)\n",
      "Es comida marina?: (False)\n",
      "Lleva zapallo?: (False)\n",
      "Es comida china?: (False)\n",
      "Lleva papas fritas?: (False)\n",
      "Lleva papas?: (False)\n",
      "Lleva cebolla?: (True)\n",
      "Lleva huevo?: (False)\n",
      "Lleva salsa de tomates?: (False)\n",
      "Es comida de la selva?: (False)\n",
      "Es liquido/sopa?: (False)\n",
      "Lleva chicha de jora?: (False)\n",
      "Lleva Queso?: (False)\n",
      "Lleva albahaca?: (False)\n"
     ]
    }
   ],
   "source": [
    "def explore_plate(idx):\n",
    "    print('Plate: %s\\n' % idx2row[idx])\n",
    "    for i, d in enumerate(data[idx]):\n",
    "        t = 'True' if d > 0 else 'False'\n",
    "        print('%s: (%s)' % (idx2col[i], t))\n",
    "        \n",
    "explore_plate(random.choice(range(len(data))))"
   ]
  }
 ],
 "metadata": {
  "kernelspec": {
   "display_name": "Python 3",
   "language": "python",
   "name": "python3"
  },
  "language_info": {
   "codemirror_mode": {
    "name": "ipython",
    "version": 3
   },
   "file_extension": ".py",
   "mimetype": "text/x-python",
   "name": "python",
   "nbconvert_exporter": "python",
   "pygments_lexer": "ipython3",
   "version": "3.6.0"
  }
 },
 "nbformat": 4,
 "nbformat_minor": 2
}
